{
 "cells": [
  {
   "cell_type": "markdown",
   "id": "1f760d2b-a127-4f74-a6f3-06568bf6ce23",
   "metadata": {},
   "source": [
    "# 911 Calls Analysis\n",
    "Exploratory Data Analysis workflow project"
   ]
  },
  {
   "cell_type": "markdown",
   "id": "d8a97b25-2be1-4927-aaf8-3a347d514a04",
   "metadata": {},
   "source": [
    "## Set-up"
   ]
  },
  {
   "cell_type": "markdown",
   "id": "cdc0546a-eefe-4c0a-aacc-8cf575d9aa2c",
   "metadata": {},
   "source": [
    "Import required libraries"
   ]
  },
  {
   "cell_type": "code",
   "execution_count": 211,
   "id": "0a069263-05c0-4ade-9146-1726c23739b4",
   "metadata": {},
   "outputs": [],
   "source": [
    "import numpy as np\n",
    "import pandas as pd\n",
    "import seaborn as sns\n",
    "import matplotlib.pyplot as plt\n",
    "import plotly.express as px"
   ]
  },
  {
   "cell_type": "markdown",
   "id": "703660c0-0814-4232-a9f7-b343326ad5f8",
   "metadata": {},
   "source": [
    "Read in the data file and familiriarise with its structure"
   ]
  },
  {
   "cell_type": "code",
   "execution_count": 96,
   "id": "34c42da8-bc4e-4a9c-81a1-5d5937506dbc",
   "metadata": {},
   "outputs": [
    {
     "data": {
      "text/html": [
       "<div>\n",
       "<style scoped>\n",
       "    .dataframe tbody tr th:only-of-type {\n",
       "        vertical-align: middle;\n",
       "    }\n",
       "\n",
       "    .dataframe tbody tr th {\n",
       "        vertical-align: top;\n",
       "    }\n",
       "\n",
       "    .dataframe thead th {\n",
       "        text-align: right;\n",
       "    }\n",
       "</style>\n",
       "<table border=\"1\" class=\"dataframe\">\n",
       "  <thead>\n",
       "    <tr style=\"text-align: right;\">\n",
       "      <th></th>\n",
       "      <th>lat</th>\n",
       "      <th>lng</th>\n",
       "      <th>desc</th>\n",
       "      <th>zip</th>\n",
       "      <th>title</th>\n",
       "      <th>timeStamp</th>\n",
       "      <th>twp</th>\n",
       "      <th>addr</th>\n",
       "      <th>e</th>\n",
       "    </tr>\n",
       "  </thead>\n",
       "  <tbody>\n",
       "    <tr>\n",
       "      <th>0</th>\n",
       "      <td>40.297876</td>\n",
       "      <td>-75.581294</td>\n",
       "      <td>REINDEER CT &amp; DEAD END;  NEW HANOVER; Station ...</td>\n",
       "      <td>19525.0</td>\n",
       "      <td>EMS: BACK PAINS/INJURY</td>\n",
       "      <td>2015-12-10 17:40:00</td>\n",
       "      <td>NEW HANOVER</td>\n",
       "      <td>REINDEER CT &amp; DEAD END</td>\n",
       "      <td>1</td>\n",
       "    </tr>\n",
       "    <tr>\n",
       "      <th>1</th>\n",
       "      <td>40.258061</td>\n",
       "      <td>-75.264680</td>\n",
       "      <td>BRIAR PATH &amp; WHITEMARSH LN;  HATFIELD TOWNSHIP...</td>\n",
       "      <td>19446.0</td>\n",
       "      <td>EMS: DIABETIC EMERGENCY</td>\n",
       "      <td>2015-12-10 17:40:00</td>\n",
       "      <td>HATFIELD TOWNSHIP</td>\n",
       "      <td>BRIAR PATH &amp; WHITEMARSH LN</td>\n",
       "      <td>1</td>\n",
       "    </tr>\n",
       "    <tr>\n",
       "      <th>2</th>\n",
       "      <td>40.121182</td>\n",
       "      <td>-75.351975</td>\n",
       "      <td>HAWS AVE; NORRISTOWN; 2015-12-10 @ 14:39:21-St...</td>\n",
       "      <td>19401.0</td>\n",
       "      <td>Fire: GAS-ODOR/LEAK</td>\n",
       "      <td>2015-12-10 17:40:00</td>\n",
       "      <td>NORRISTOWN</td>\n",
       "      <td>HAWS AVE</td>\n",
       "      <td>1</td>\n",
       "    </tr>\n",
       "    <tr>\n",
       "      <th>3</th>\n",
       "      <td>40.116153</td>\n",
       "      <td>-75.343513</td>\n",
       "      <td>AIRY ST &amp; SWEDE ST;  NORRISTOWN; Station 308A;...</td>\n",
       "      <td>19401.0</td>\n",
       "      <td>EMS: CARDIAC EMERGENCY</td>\n",
       "      <td>2015-12-10 17:40:01</td>\n",
       "      <td>NORRISTOWN</td>\n",
       "      <td>AIRY ST &amp; SWEDE ST</td>\n",
       "      <td>1</td>\n",
       "    </tr>\n",
       "    <tr>\n",
       "      <th>4</th>\n",
       "      <td>40.251492</td>\n",
       "      <td>-75.603350</td>\n",
       "      <td>CHERRYWOOD CT &amp; DEAD END;  LOWER POTTSGROVE; S...</td>\n",
       "      <td>NaN</td>\n",
       "      <td>EMS: DIZZINESS</td>\n",
       "      <td>2015-12-10 17:40:01</td>\n",
       "      <td>LOWER POTTSGROVE</td>\n",
       "      <td>CHERRYWOOD CT &amp; DEAD END</td>\n",
       "      <td>1</td>\n",
       "    </tr>\n",
       "  </tbody>\n",
       "</table>\n",
       "</div>"
      ],
      "text/plain": [
       "         lat        lng                                               desc  \\\n",
       "0  40.297876 -75.581294  REINDEER CT & DEAD END;  NEW HANOVER; Station ...   \n",
       "1  40.258061 -75.264680  BRIAR PATH & WHITEMARSH LN;  HATFIELD TOWNSHIP...   \n",
       "2  40.121182 -75.351975  HAWS AVE; NORRISTOWN; 2015-12-10 @ 14:39:21-St...   \n",
       "3  40.116153 -75.343513  AIRY ST & SWEDE ST;  NORRISTOWN; Station 308A;...   \n",
       "4  40.251492 -75.603350  CHERRYWOOD CT & DEAD END;  LOWER POTTSGROVE; S...   \n",
       "\n",
       "       zip                    title            timeStamp                twp  \\\n",
       "0  19525.0   EMS: BACK PAINS/INJURY  2015-12-10 17:40:00        NEW HANOVER   \n",
       "1  19446.0  EMS: DIABETIC EMERGENCY  2015-12-10 17:40:00  HATFIELD TOWNSHIP   \n",
       "2  19401.0      Fire: GAS-ODOR/LEAK  2015-12-10 17:40:00         NORRISTOWN   \n",
       "3  19401.0   EMS: CARDIAC EMERGENCY  2015-12-10 17:40:01         NORRISTOWN   \n",
       "4      NaN           EMS: DIZZINESS  2015-12-10 17:40:01   LOWER POTTSGROVE   \n",
       "\n",
       "                         addr  e  \n",
       "0      REINDEER CT & DEAD END  1  \n",
       "1  BRIAR PATH & WHITEMARSH LN  1  \n",
       "2                    HAWS AVE  1  \n",
       "3          AIRY ST & SWEDE ST  1  \n",
       "4    CHERRYWOOD CT & DEAD END  1  "
      ]
     },
     "execution_count": 96,
     "metadata": {},
     "output_type": "execute_result"
    }
   ],
   "source": [
    "df = pd.read_csv('911.csv')\n",
    "df.head()"
   ]
  },
  {
   "cell_type": "code",
   "execution_count": 97,
   "id": "6140e126-62fd-4930-8b65-27d494385e17",
   "metadata": {},
   "outputs": [
    {
     "name": "stdout",
     "output_type": "stream",
     "text": [
      "<class 'pandas.core.frame.DataFrame'>\n",
      "RangeIndex: 99492 entries, 0 to 99491\n",
      "Data columns (total 9 columns):\n",
      " #   Column     Non-Null Count  Dtype  \n",
      "---  ------     --------------  -----  \n",
      " 0   lat        99492 non-null  float64\n",
      " 1   lng        99492 non-null  float64\n",
      " 2   desc       99492 non-null  object \n",
      " 3   zip        86637 non-null  float64\n",
      " 4   title      99492 non-null  object \n",
      " 5   timeStamp  99492 non-null  object \n",
      " 6   twp        99449 non-null  object \n",
      " 7   addr       98973 non-null  object \n",
      " 8   e          99492 non-null  int64  \n",
      "dtypes: float64(3), int64(1), object(5)\n",
      "memory usage: 6.8+ MB\n"
     ]
    }
   ],
   "source": [
    "df.info()"
   ]
  },
  {
   "cell_type": "markdown",
   "id": "1d573f99-3c1e-475c-93c1-f37d45081a28",
   "metadata": {},
   "source": [
    "## Explore some basic questions about the data"
   ]
  },
  {
   "cell_type": "markdown",
   "id": "56160067-f373-4ba8-94df-0e22a9d4630a",
   "metadata": {},
   "source": [
    "What are the top 5 zipcodes for 911 calls?"
   ]
  },
  {
   "cell_type": "code",
   "execution_count": 126,
   "id": "924fa6cb-6b72-4f3b-aba6-970a80db6b44",
   "metadata": {},
   "outputs": [
    {
     "name": "stdout",
     "output_type": "stream",
     "text": [
      "The top 5 zipcodes for 911 calls are:\n",
      "1. 19401 with 6979 calls\n",
      "2. 19464 with 6643 calls\n",
      "3. 19403 with 4854 calls\n",
      "4. 19446 with 4748 calls\n",
      "5. 19406 with 3174 calls\n"
     ]
    }
   ],
   "source": [
    "zip_pop = df['zip'].value_counts().head(5)\n",
    "\n",
    "print(\"The top 5 zipcodes for 911 calls are:\")\n",
    "for i, (zipcode,count) in enumerate(zip_pop.items(), start = 1):\n",
    "    print(f\"{i}. {int(zipcode)} with {count} calls\")\n"
   ]
  },
  {
   "cell_type": "markdown",
   "id": "aaaaec36-1e32-4cb7-9289-300b1162d09d",
   "metadata": {},
   "source": [
    "What are the top 5 townships for 911 calls?"
   ]
  },
  {
   "cell_type": "code",
   "execution_count": 127,
   "id": "e5487bb6-63f6-4fee-9005-b35933fc7e07",
   "metadata": {},
   "outputs": [
    {
     "name": "stdout",
     "output_type": "stream",
     "text": [
      "The top 5 townships for 911 calls are:\n",
      "1. LOWER MERION with 8443 calls\n",
      "2. ABINGTON with 5977 calls\n",
      "3. NORRISTOWN with 5890 calls\n",
      "4. UPPER MERION with 5227 calls\n",
      "5. CHELTENHAM with 4575 calls\n"
     ]
    }
   ],
   "source": [
    "twp_pop = df['twp'].value_counts().head(5)\n",
    "\n",
    "print(\"The top 5 townships for 911 calls are:\")\n",
    "for i, (twp,count) in enumerate(twp_pop.items(), start = 1):\n",
    "    print(f\"{i}. {twp} with {count} calls\")"
   ]
  },
  {
   "cell_type": "markdown",
   "id": "6cd1e0bb-589e-43e5-8f5e-d6b0594c537d",
   "metadata": {},
   "source": [
    "How many unique titles are there in the title codes column?"
   ]
  },
  {
   "cell_type": "code",
   "execution_count": 100,
   "id": "b68f1cea-3d3f-4924-a01e-9a7ba00bbdaf",
   "metadata": {},
   "outputs": [
    {
     "data": {
      "text/plain": [
       "0         EMS: BACK PAINS/INJURY\n",
       "1        EMS: DIABETIC EMERGENCY\n",
       "2            Fire: GAS-ODOR/LEAK\n",
       "3         EMS: CARDIAC EMERGENCY\n",
       "4                 EMS: DIZZINESS\n",
       "5               EMS: HEAD INJURY\n",
       "6           EMS: NAUSEA/VOMITING\n",
       "7     EMS: RESPIRATORY EMERGENCY\n",
       "8          EMS: SYNCOPAL EPISODE\n",
       "9    Traffic: VEHICLE ACCIDENT -\n",
       "Name: title, dtype: object"
      ]
     },
     "execution_count": 100,
     "metadata": {},
     "output_type": "execute_result"
    }
   ],
   "source": [
    "df['title'].head(10)"
   ]
  },
  {
   "cell_type": "code",
   "execution_count": 101,
   "id": "638c9209-4fec-4715-afbc-9208523d7e16",
   "metadata": {},
   "outputs": [
    {
     "name": "stdout",
     "output_type": "stream",
     "text": [
      "There are 110 unique titles\n"
     ]
    }
   ],
   "source": [
    "print(f\"There are {len(df['title'].unique())} unique titles\")"
   ]
  },
  {
   "cell_type": "markdown",
   "id": "fd86ddc2-3cf7-4641-94ad-17210406f160",
   "metadata": {},
   "source": [
    "In the title column we have reasons/department (e.g., Traffic) and description (e.g., Vehicle accident). Lets create a new column with the reason so we can explore further the main reasons for 911 calls"
   ]
  },
  {
   "cell_type": "markdown",
   "id": "3c128496-6e2c-4078-842c-cba9357db821",
   "metadata": {},
   "source": [
    "## Explore different aspects of the 911 calls including reasons and temporal patterns"
   ]
  },
  {
   "cell_type": "code",
   "execution_count": 102,
   "id": "97ff52ad-f1bd-4370-ba9c-abe5c83a2490",
   "metadata": {},
   "outputs": [
    {
     "data": {
      "text/plain": [
       "0     EMS\n",
       "1     EMS\n",
       "2    Fire\n",
       "3     EMS\n",
       "4     EMS\n",
       "Name: Reason, dtype: object"
      ]
     },
     "execution_count": 102,
     "metadata": {},
     "output_type": "execute_result"
    }
   ],
   "source": [
    "df['Reason'] = df['title'].apply(lambda x:x.split(':')[0])\n",
    "df['Reason'].head()"
   ]
  },
  {
   "cell_type": "markdown",
   "id": "6d991fc4-1d04-4b28-8aa1-a04d052c7e0e",
   "metadata": {},
   "source": [
    "Now explore the most common reasons to call 911"
   ]
  },
  {
   "cell_type": "code",
   "execution_count": 129,
   "id": "cf9bb560-be52-4b78-a5f7-fb83508fab71",
   "metadata": {},
   "outputs": [
    {
     "name": "stdout",
     "output_type": "stream",
     "text": [
      "The top 5 reasons for 911 calls are:\n",
      "1. EMS with 48877 calls\n",
      "2. Traffic with 35695 calls\n",
      "3. Fire with 14920 calls\n"
     ]
    },
    {
     "data": {
      "image/png": "[encoded data removed]",
      "text/plain": [
       "<Figure size 1000x500 with 1 Axes>"
      ]
     },
     "metadata": {},
     "output_type": "display_data"
    }
   ],
   "source": [
    "top_reasons = df['Reason'].value_counts()\n",
    "\n",
    "print(\"The top 5 reasons for 911 calls are:\")\n",
    "for i, (reason,count) in enumerate(top_reasons.items(), start = 1):\n",
    "    print(f\"{i}. {reason} with {count} calls\")\n",
    "    \n",
    "plt.figure(figsize=(10,5))\n",
    "sns.countplot(x = 'Reason', data = df, hue = 'Reason', palette = 'viridis')\n",
    "plt.tight_layout()\n",
    "plt.show()"
   ]
  },
  {
   "cell_type": "markdown",
   "id": "85c2d5b1-00b9-4da7-a62b-bc89c167260a",
   "metadata": {},
   "source": [
    "Let's work with time information. The column timeStamp contains this information but we need to make sure that it is a time object, so let's check the object time of that column and transform it to Datetime if needed."
   ]
  },
  {
   "cell_type": "code",
   "execution_count": 104,
   "id": "f3c34eb5-d6a0-418a-8fdc-9bb02c9f90c6",
   "metadata": {},
   "outputs": [
    {
     "data": {
      "text/plain": [
       "str"
      ]
     },
     "execution_count": 104,
     "metadata": {},
     "output_type": "execute_result"
    }
   ],
   "source": [
    "type(df['timeStamp'][0])"
   ]
  },
  {
   "cell_type": "code",
   "execution_count": 105,
   "id": "6de64fb4-f12d-444e-bd50-b549004c5103",
   "metadata": {},
   "outputs": [],
   "source": [
    "df['timeStamp'] = pd.to_datetime(df['timeStamp'])"
   ]
  },
  {
   "cell_type": "code",
   "execution_count": 106,
   "id": "b19ab334-6c1f-4b93-86e8-4ff6de61a9ec",
   "metadata": {},
   "outputs": [
    {
     "data": {
      "text/plain": [
       "Timestamp('2015-12-10 17:40:00')"
      ]
     },
     "execution_count": 106,
     "metadata": {},
     "output_type": "execute_result"
    }
   ],
   "source": [
    "df['timeStamp'].iloc[0]"
   ]
  },
  {
   "cell_type": "markdown",
   "id": "9a52cf20-ca93-41d3-8443-4d71c7882691",
   "metadata": {},
   "source": [
    "Now that we have our timeStamp column in the right format, lets create 3 new columns with Hour, Month and Day of the Week"
   ]
  },
  {
   "cell_type": "code",
   "execution_count": 107,
   "id": "a6518070-0525-4093-822a-6f8bd2cc30ad",
   "metadata": {},
   "outputs": [
    {
     "data": {
      "text/plain": [
       "0    17\n",
       "1    17\n",
       "2    17\n",
       "3    17\n",
       "4    17\n",
       "Name: Hour, dtype: int64"
      ]
     },
     "execution_count": 107,
     "metadata": {},
     "output_type": "execute_result"
    }
   ],
   "source": [
    "df['Hour'] = df['timeStamp'].apply(lambda x: x.hour)\n",
    "df['Hour'].head()"
   ]
  },
  {
   "cell_type": "code",
   "execution_count": 108,
   "id": "bc7c172a-f226-4a52-8607-060aa0f0d65a",
   "metadata": {},
   "outputs": [
    {
     "data": {
      "text/plain": [
       "0    12\n",
       "1    12\n",
       "2    12\n",
       "3    12\n",
       "4    12\n",
       "Name: Month, dtype: int64"
      ]
     },
     "execution_count": 108,
     "metadata": {},
     "output_type": "execute_result"
    }
   ],
   "source": [
    "df['Month'] = df['timeStamp'].apply(lambda x: x.month)\n",
    "df['Month'].head()"
   ]
  },
  {
   "cell_type": "code",
   "execution_count": 109,
   "id": "c8bce684-2e0b-430b-9a3b-354364d856c2",
   "metadata": {},
   "outputs": [
    {
     "data": {
      "text/plain": [
       "array([3, 4, 5, 6, 0, 1, 2])"
      ]
     },
     "execution_count": 109,
     "metadata": {},
     "output_type": "execute_result"
    }
   ],
   "source": [
    "df['Dayofweek'] = df['timeStamp'].apply(lambda x: x.dayofweek)\n",
    "df['Dayofweek'].unique() # Note that Monday is 0 and Sunday is 6"
   ]
  },
  {
   "cell_type": "code",
   "execution_count": 110,
   "id": "1949324a-b9fe-4518-88c9-646733fa3ab1",
   "metadata": {},
   "outputs": [
    {
     "data": {
      "text/html": [
       "<div>\n",
       "<style scoped>\n",
       "    .dataframe tbody tr th:only-of-type {\n",
       "        vertical-align: middle;\n",
       "    }\n",
       "\n",
       "    .dataframe tbody tr th {\n",
       "        vertical-align: top;\n",
       "    }\n",
       "\n",
       "    .dataframe thead th {\n",
       "        text-align: right;\n",
       "    }\n",
       "</style>\n",
       "<table border=\"1\" class=\"dataframe\">\n",
       "  <thead>\n",
       "    <tr style=\"text-align: right;\">\n",
       "      <th></th>\n",
       "      <th>lat</th>\n",
       "      <th>lng</th>\n",
       "      <th>desc</th>\n",
       "      <th>zip</th>\n",
       "      <th>title</th>\n",
       "      <th>timeStamp</th>\n",
       "      <th>twp</th>\n",
       "      <th>addr</th>\n",
       "      <th>e</th>\n",
       "      <th>Reason</th>\n",
       "      <th>Hour</th>\n",
       "      <th>Month</th>\n",
       "      <th>Dayofweek</th>\n",
       "    </tr>\n",
       "  </thead>\n",
       "  <tbody>\n",
       "    <tr>\n",
       "      <th>0</th>\n",
       "      <td>40.297876</td>\n",
       "      <td>-75.581294</td>\n",
       "      <td>REINDEER CT &amp; DEAD END;  NEW HANOVER; Station ...</td>\n",
       "      <td>19525.0</td>\n",
       "      <td>EMS: BACK PAINS/INJURY</td>\n",
       "      <td>2015-12-10 17:40:00</td>\n",
       "      <td>NEW HANOVER</td>\n",
       "      <td>REINDEER CT &amp; DEAD END</td>\n",
       "      <td>1</td>\n",
       "      <td>EMS</td>\n",
       "      <td>17</td>\n",
       "      <td>12</td>\n",
       "      <td>Thu</td>\n",
       "    </tr>\n",
       "    <tr>\n",
       "      <th>1</th>\n",
       "      <td>40.258061</td>\n",
       "      <td>-75.264680</td>\n",
       "      <td>BRIAR PATH &amp; WHITEMARSH LN;  HATFIELD TOWNSHIP...</td>\n",
       "      <td>19446.0</td>\n",
       "      <td>EMS: DIABETIC EMERGENCY</td>\n",
       "      <td>2015-12-10 17:40:00</td>\n",
       "      <td>HATFIELD TOWNSHIP</td>\n",
       "      <td>BRIAR PATH &amp; WHITEMARSH LN</td>\n",
       "      <td>1</td>\n",
       "      <td>EMS</td>\n",
       "      <td>17</td>\n",
       "      <td>12</td>\n",
       "      <td>Thu</td>\n",
       "    </tr>\n",
       "    <tr>\n",
       "      <th>2</th>\n",
       "      <td>40.121182</td>\n",
       "      <td>-75.351975</td>\n",
       "      <td>HAWS AVE; NORRISTOWN; 2015-12-10 @ 14:39:21-St...</td>\n",
       "      <td>19401.0</td>\n",
       "      <td>Fire: GAS-ODOR/LEAK</td>\n",
       "      <td>2015-12-10 17:40:00</td>\n",
       "      <td>NORRISTOWN</td>\n",
       "      <td>HAWS AVE</td>\n",
       "      <td>1</td>\n",
       "      <td>Fire</td>\n",
       "      <td>17</td>\n",
       "      <td>12</td>\n",
       "      <td>Thu</td>\n",
       "    </tr>\n",
       "    <tr>\n",
       "      <th>3</th>\n",
       "      <td>40.116153</td>\n",
       "      <td>-75.343513</td>\n",
       "      <td>AIRY ST &amp; SWEDE ST;  NORRISTOWN; Station 308A;...</td>\n",
       "      <td>19401.0</td>\n",
       "      <td>EMS: CARDIAC EMERGENCY</td>\n",
       "      <td>2015-12-10 17:40:01</td>\n",
       "      <td>NORRISTOWN</td>\n",
       "      <td>AIRY ST &amp; SWEDE ST</td>\n",
       "      <td>1</td>\n",
       "      <td>EMS</td>\n",
       "      <td>17</td>\n",
       "      <td>12</td>\n",
       "      <td>Thu</td>\n",
       "    </tr>\n",
       "    <tr>\n",
       "      <th>4</th>\n",
       "      <td>40.251492</td>\n",
       "      <td>-75.603350</td>\n",
       "      <td>CHERRYWOOD CT &amp; DEAD END;  LOWER POTTSGROVE; S...</td>\n",
       "      <td>NaN</td>\n",
       "      <td>EMS: DIZZINESS</td>\n",
       "      <td>2015-12-10 17:40:01</td>\n",
       "      <td>LOWER POTTSGROVE</td>\n",
       "      <td>CHERRYWOOD CT &amp; DEAD END</td>\n",
       "      <td>1</td>\n",
       "      <td>EMS</td>\n",
       "      <td>17</td>\n",
       "      <td>12</td>\n",
       "      <td>Thu</td>\n",
       "    </tr>\n",
       "  </tbody>\n",
       "</table>\n",
       "</div>"
      ],
      "text/plain": [
       "         lat        lng                                               desc  \\\n",
       "0  40.297876 -75.581294  REINDEER CT & DEAD END;  NEW HANOVER; Station ...   \n",
       "1  40.258061 -75.264680  BRIAR PATH & WHITEMARSH LN;  HATFIELD TOWNSHIP...   \n",
       "2  40.121182 -75.351975  HAWS AVE; NORRISTOWN; 2015-12-10 @ 14:39:21-St...   \n",
       "3  40.116153 -75.343513  AIRY ST & SWEDE ST;  NORRISTOWN; Station 308A;...   \n",
       "4  40.251492 -75.603350  CHERRYWOOD CT & DEAD END;  LOWER POTTSGROVE; S...   \n",
       "\n",
       "       zip                    title           timeStamp                twp  \\\n",
       "0  19525.0   EMS: BACK PAINS/INJURY 2015-12-10 17:40:00        NEW HANOVER   \n",
       "1  19446.0  EMS: DIABETIC EMERGENCY 2015-12-10 17:40:00  HATFIELD TOWNSHIP   \n",
       "2  19401.0      Fire: GAS-ODOR/LEAK 2015-12-10 17:40:00         NORRISTOWN   \n",
       "3  19401.0   EMS: CARDIAC EMERGENCY 2015-12-10 17:40:01         NORRISTOWN   \n",
       "4      NaN           EMS: DIZZINESS 2015-12-10 17:40:01   LOWER POTTSGROVE   \n",
       "\n",
       "                         addr  e Reason  Hour  Month Dayofweek  \n",
       "0      REINDEER CT & DEAD END  1    EMS    17     12       Thu  \n",
       "1  BRIAR PATH & WHITEMARSH LN  1    EMS    17     12       Thu  \n",
       "2                    HAWS AVE  1   Fire    17     12       Thu  \n",
       "3          AIRY ST & SWEDE ST  1    EMS    17     12       Thu  \n",
       "4    CHERRYWOOD CT & DEAD END  1    EMS    17     12       Thu  "
      ]
     },
     "execution_count": 110,
     "metadata": {},
     "output_type": "execute_result"
    }
   ],
   "source": [
    "dmap = {0:'Mon',1:'Tue',2:'Wed',3:'Thu',4:'Fri',5:'Sat',6:'Sun'}\n",
    "df['Dayofweek'] = df['Dayofweek'].map(dmap)\n",
    "df.head()"
   ]
  },
  {
   "cell_type": "markdown",
   "id": "188d3ccb-364b-4ed3-b23a-d41a9d8b10e2",
   "metadata": {},
   "source": [
    "Lets explore now the number of calls across day of the week and month based on the reason"
   ]
  },
  {
   "cell_type": "code",
   "execution_count": 130,
   "id": "94b25993-0b02-4108-9eb3-e111d343f85a",
   "metadata": {},
   "outputs": [
    {
     "data": {
      "image/png": "[encoded data removed]",
      "text/plain": [
       "<Figure size 1000x500 with 1 Axes>"
      ]
     },
     "metadata": {},
     "output_type": "display_data"
    }
   ],
   "source": [
    "days_order = ['Mon', 'Tue', 'Wed', 'Thu', 'Fri', 'Sat', 'Sun']\n",
    "plt.figure(figsize=(10,5))\n",
    "sns.countplot(x = 'Dayofweek', data = df, hue = 'Reason', palette = 'viridis', order = days_order)\n",
    "plt.legend(title='Reason', loc='center left', bbox_to_anchor=(1, 0.5))\n",
    "plt.title('911 Calls by Day of Week and Reason')\n",
    "plt.tight_layout()\n",
    "plt.show()"
   ]
  },
  {
   "cell_type": "code",
   "execution_count": 131,
   "id": "7e499f05-34dc-4796-a5c1-cc4b3bf323a3",
   "metadata": {},
   "outputs": [
    {
     "data": {
      "image/png": "[encoded data removed]",
      "text/plain": [
       "<Figure size 1000x500 with 1 Axes>"
      ]
     },
     "metadata": {},
     "output_type": "display_data"
    }
   ],
   "source": [
    "days_order = [1,2,3,4,5,6,7,8,9,10,11,12]\n",
    "plt.figure(figsize=(10,5))\n",
    "sns.countplot(x = 'Month', data = df, hue = 'Reason', palette = 'viridis', order = days_order)\n",
    "plt.legend(title='Reason', loc='center left', bbox_to_anchor=(1, 0.5))\n",
    "plt.title('911 Calls by Month and Reason')\n",
    "plt.tight_layout()\n",
    "plt.show()"
   ]
  },
  {
   "cell_type": "markdown",
   "id": "3fb1bfbb-c99b-4050-ae28-4ef85391a27f",
   "metadata": {},
   "source": [
    "We see some missing info for some months (September, October and November). Let's try to fill this information by shifting the visualisation approach"
   ]
  },
  {
   "cell_type": "code",
   "execution_count": 122,
   "id": "29d1d781-1ef1-4155-a487-83e32fbc72c8",
   "metadata": {},
   "outputs": [
    {
     "data": {
      "text/html": [
       "<div>\n",
       "<style scoped>\n",
       "    .dataframe tbody tr th:only-of-type {\n",
       "        vertical-align: middle;\n",
       "    }\n",
       "\n",
       "    .dataframe tbody tr th {\n",
       "        vertical-align: top;\n",
       "    }\n",
       "\n",
       "    .dataframe thead th {\n",
       "        text-align: right;\n",
       "    }\n",
       "</style>\n",
       "<table border=\"1\" class=\"dataframe\">\n",
       "  <thead>\n",
       "    <tr style=\"text-align: right;\">\n",
       "      <th></th>\n",
       "      <th>lat</th>\n",
       "      <th>lng</th>\n",
       "      <th>desc</th>\n",
       "      <th>zip</th>\n",
       "      <th>title</th>\n",
       "      <th>timeStamp</th>\n",
       "      <th>twp</th>\n",
       "      <th>addr</th>\n",
       "      <th>e</th>\n",
       "      <th>Reason</th>\n",
       "      <th>Hour</th>\n",
       "      <th>Dayofweek</th>\n",
       "    </tr>\n",
       "    <tr>\n",
       "      <th>Month</th>\n",
       "      <th></th>\n",
       "      <th></th>\n",
       "      <th></th>\n",
       "      <th></th>\n",
       "      <th></th>\n",
       "      <th></th>\n",
       "      <th></th>\n",
       "      <th></th>\n",
       "      <th></th>\n",
       "      <th></th>\n",
       "      <th></th>\n",
       "      <th></th>\n",
       "    </tr>\n",
       "  </thead>\n",
       "  <tbody>\n",
       "    <tr>\n",
       "      <th>1</th>\n",
       "      <td>13205</td>\n",
       "      <td>13205</td>\n",
       "      <td>13205</td>\n",
       "      <td>11527</td>\n",
       "      <td>13205</td>\n",
       "      <td>13205</td>\n",
       "      <td>13203</td>\n",
       "      <td>13096</td>\n",
       "      <td>13205</td>\n",
       "      <td>13205</td>\n",
       "      <td>13205</td>\n",
       "      <td>13205</td>\n",
       "    </tr>\n",
       "    <tr>\n",
       "      <th>2</th>\n",
       "      <td>11467</td>\n",
       "      <td>11467</td>\n",
       "      <td>11467</td>\n",
       "      <td>9930</td>\n",
       "      <td>11467</td>\n",
       "      <td>11467</td>\n",
       "      <td>11465</td>\n",
       "      <td>11396</td>\n",
       "      <td>11467</td>\n",
       "      <td>11467</td>\n",
       "      <td>11467</td>\n",
       "      <td>11467</td>\n",
       "    </tr>\n",
       "    <tr>\n",
       "      <th>3</th>\n",
       "      <td>11101</td>\n",
       "      <td>11101</td>\n",
       "      <td>11101</td>\n",
       "      <td>9755</td>\n",
       "      <td>11101</td>\n",
       "      <td>11101</td>\n",
       "      <td>11092</td>\n",
       "      <td>11059</td>\n",
       "      <td>11101</td>\n",
       "      <td>11101</td>\n",
       "      <td>11101</td>\n",
       "      <td>11101</td>\n",
       "    </tr>\n",
       "    <tr>\n",
       "      <th>4</th>\n",
       "      <td>11326</td>\n",
       "      <td>11326</td>\n",
       "      <td>11326</td>\n",
       "      <td>9895</td>\n",
       "      <td>11326</td>\n",
       "      <td>11326</td>\n",
       "      <td>11323</td>\n",
       "      <td>11283</td>\n",
       "      <td>11326</td>\n",
       "      <td>11326</td>\n",
       "      <td>11326</td>\n",
       "      <td>11326</td>\n",
       "    </tr>\n",
       "    <tr>\n",
       "      <th>5</th>\n",
       "      <td>11423</td>\n",
       "      <td>11423</td>\n",
       "      <td>11423</td>\n",
       "      <td>9946</td>\n",
       "      <td>11423</td>\n",
       "      <td>11423</td>\n",
       "      <td>11420</td>\n",
       "      <td>11378</td>\n",
       "      <td>11423</td>\n",
       "      <td>11423</td>\n",
       "      <td>11423</td>\n",
       "      <td>11423</td>\n",
       "    </tr>\n",
       "  </tbody>\n",
       "</table>\n",
       "</div>"
      ],
      "text/plain": [
       "         lat    lng   desc    zip  title  timeStamp    twp   addr      e  \\\n",
       "Month                                                                      \n",
       "1      13205  13205  13205  11527  13205      13205  13203  13096  13205   \n",
       "2      11467  11467  11467   9930  11467      11467  11465  11396  11467   \n",
       "3      11101  11101  11101   9755  11101      11101  11092  11059  11101   \n",
       "4      11326  11326  11326   9895  11326      11326  11323  11283  11326   \n",
       "5      11423  11423  11423   9946  11423      11423  11420  11378  11423   \n",
       "\n",
       "       Reason   Hour  Dayofweek  \n",
       "Month                            \n",
       "1       13205  13205      13205  \n",
       "2       11467  11467      11467  \n",
       "3       11101  11101      11101  \n",
       "4       11326  11326      11326  \n",
       "5       11423  11423      11423  "
      ]
     },
     "execution_count": 122,
     "metadata": {},
     "output_type": "execute_result"
    }
   ],
   "source": [
    "bymonth = df.groupby('Month').count()\n",
    "bymonth.head()"
   ]
  },
  {
   "cell_type": "code",
   "execution_count": 125,
   "id": "e500dbc6-ecb2-4e2c-9c8f-ddf0541127ce",
   "metadata": {},
   "outputs": [
    {
     "data": {
      "image/png": "[encoded data removed]",
      "text/plain": [
       "<Figure size 1000x600 with 1 Axes>"
      ]
     },
     "metadata": {},
     "output_type": "display_data"
    }
   ],
   "source": [
    "plt.figure(figsize=(10,6))\n",
    "sns.lineplot(x = 'Month', y = 'Reason', data = bymonth)\n",
    "plt.title('Total calls by month')\n",
    "plt.ylabel('Number of 911 Calls') \n",
    "plt.tight_layout()\n",
    "plt.show()"
   ]
  },
  {
   "cell_type": "markdown",
   "id": "c72d79e5-d14a-46a1-9dce-9d3bd6d90bef",
   "metadata": {},
   "source": [
    "Let's explore a potential trend in the monthly number of calls"
   ]
  },
  {
   "cell_type": "code",
   "execution_count": 135,
   "id": "39e01b07-254c-4c9e-81ec-e66fd0673003",
   "metadata": {},
   "outputs": [
    {
     "data": {
      "text/html": [
       "<div>\n",
       "<style scoped>\n",
       "    .dataframe tbody tr th:only-of-type {\n",
       "        vertical-align: middle;\n",
       "    }\n",
       "\n",
       "    .dataframe tbody tr th {\n",
       "        vertical-align: top;\n",
       "    }\n",
       "\n",
       "    .dataframe thead th {\n",
       "        text-align: right;\n",
       "    }\n",
       "</style>\n",
       "<table border=\"1\" class=\"dataframe\">\n",
       "  <thead>\n",
       "    <tr style=\"text-align: right;\">\n",
       "      <th></th>\n",
       "      <th>Month</th>\n",
       "      <th>lat</th>\n",
       "      <th>lng</th>\n",
       "      <th>desc</th>\n",
       "      <th>zip</th>\n",
       "      <th>title</th>\n",
       "      <th>timeStamp</th>\n",
       "      <th>twp</th>\n",
       "      <th>addr</th>\n",
       "      <th>e</th>\n",
       "      <th>Reason</th>\n",
       "      <th>Hour</th>\n",
       "      <th>Dayofweek</th>\n",
       "    </tr>\n",
       "  </thead>\n",
       "  <tbody>\n",
       "    <tr>\n",
       "      <th>0</th>\n",
       "      <td>1</td>\n",
       "      <td>13205</td>\n",
       "      <td>13205</td>\n",
       "      <td>13205</td>\n",
       "      <td>11527</td>\n",
       "      <td>13205</td>\n",
       "      <td>13205</td>\n",
       "      <td>13203</td>\n",
       "      <td>13096</td>\n",
       "      <td>13205</td>\n",
       "      <td>13205</td>\n",
       "      <td>13205</td>\n",
       "      <td>13205</td>\n",
       "    </tr>\n",
       "    <tr>\n",
       "      <th>1</th>\n",
       "      <td>2</td>\n",
       "      <td>11467</td>\n",
       "      <td>11467</td>\n",
       "      <td>11467</td>\n",
       "      <td>9930</td>\n",
       "      <td>11467</td>\n",
       "      <td>11467</td>\n",
       "      <td>11465</td>\n",
       "      <td>11396</td>\n",
       "      <td>11467</td>\n",
       "      <td>11467</td>\n",
       "      <td>11467</td>\n",
       "      <td>11467</td>\n",
       "    </tr>\n",
       "    <tr>\n",
       "      <th>2</th>\n",
       "      <td>3</td>\n",
       "      <td>11101</td>\n",
       "      <td>11101</td>\n",
       "      <td>11101</td>\n",
       "      <td>9755</td>\n",
       "      <td>11101</td>\n",
       "      <td>11101</td>\n",
       "      <td>11092</td>\n",
       "      <td>11059</td>\n",
       "      <td>11101</td>\n",
       "      <td>11101</td>\n",
       "      <td>11101</td>\n",
       "      <td>11101</td>\n",
       "    </tr>\n",
       "    <tr>\n",
       "      <th>3</th>\n",
       "      <td>4</td>\n",
       "      <td>11326</td>\n",
       "      <td>11326</td>\n",
       "      <td>11326</td>\n",
       "      <td>9895</td>\n",
       "      <td>11326</td>\n",
       "      <td>11326</td>\n",
       "      <td>11323</td>\n",
       "      <td>11283</td>\n",
       "      <td>11326</td>\n",
       "      <td>11326</td>\n",
       "      <td>11326</td>\n",
       "      <td>11326</td>\n",
       "    </tr>\n",
       "    <tr>\n",
       "      <th>4</th>\n",
       "      <td>5</td>\n",
       "      <td>11423</td>\n",
       "      <td>11423</td>\n",
       "      <td>11423</td>\n",
       "      <td>9946</td>\n",
       "      <td>11423</td>\n",
       "      <td>11423</td>\n",
       "      <td>11420</td>\n",
       "      <td>11378</td>\n",
       "      <td>11423</td>\n",
       "      <td>11423</td>\n",
       "      <td>11423</td>\n",
       "      <td>11423</td>\n",
       "    </tr>\n",
       "  </tbody>\n",
       "</table>\n",
       "</div>"
      ],
      "text/plain": [
       "   Month    lat    lng   desc    zip  title  timeStamp    twp   addr      e  \\\n",
       "0      1  13205  13205  13205  11527  13205      13205  13203  13096  13205   \n",
       "1      2  11467  11467  11467   9930  11467      11467  11465  11396  11467   \n",
       "2      3  11101  11101  11101   9755  11101      11101  11092  11059  11101   \n",
       "3      4  11326  11326  11326   9895  11326      11326  11323  11283  11326   \n",
       "4      5  11423  11423  11423   9946  11423      11423  11420  11378  11423   \n",
       "\n",
       "   Reason   Hour  Dayofweek  \n",
       "0   13205  13205      13205  \n",
       "1   11467  11467      11467  \n",
       "2   11101  11101      11101  \n",
       "3   11326  11326      11326  \n",
       "4   11423  11423      11423  "
      ]
     },
     "execution_count": 135,
     "metadata": {},
     "output_type": "execute_result"
    }
   ],
   "source": [
    "bymonth = bymonth.reset_index() # we need to resent the index after group by\n",
    "bymonth.head()"
   ]
  },
  {
   "cell_type": "code",
   "execution_count": 208,
   "id": "f726fec4-32f5-42c9-98e1-509e38bbffc7",
   "metadata": {},
   "outputs": [
    {
     "data": {
      "text/plain": [
       "<Figure size 1000x500 with 0 Axes>"
      ]
     },
     "metadata": {},
     "output_type": "display_data"
    },
    {
     "data": {
      "image/png": "[encoded data removed]",
      "text/plain": [
       "<Figure size 500x500 with 1 Axes>"
      ]
     },
     "metadata": {},
     "output_type": "display_data"
    }
   ],
   "source": [
    "plt.figure(figsize=(10,5))\n",
    "sns.lmplot(x = 'Month', y = 'Reason', data = bymonth,\n",
    "          scatter_kws={'color': 'black', 's': 50},\n",
    "          line_kws={'color': 'navy', 'linewidth': 2, 'linestyle':'--'})\n",
    "plt.title('Total calls by month')\n",
    "plt.ylabel('Number of 911 Calls') \n",
    "plt.tight_layout()\n",
    "plt.show()"
   ]
  },
  {
   "cell_type": "markdown",
   "id": "db19e669-c5ed-4e41-babe-8bc274b43023",
   "metadata": {},
   "source": [
    "Now, I will explore the dates in a bit more detail"
   ]
  },
  {
   "cell_type": "code",
   "execution_count": 149,
   "id": "88922727-9979-4699-9050-7fe49e978fb7",
   "metadata": {},
   "outputs": [
    {
     "data": {
      "text/plain": [
       "0        2015-12-10\n",
       "1        2015-12-10\n",
       "2        2015-12-10\n",
       "3        2015-12-10\n",
       "4        2015-12-10\n",
       "            ...    \n",
       "99487    2016-08-24\n",
       "99488    2016-08-24\n",
       "99489    2016-08-24\n",
       "99490    2016-08-24\n",
       "99491    2016-08-24\n",
       "Name: Date, Length: 99492, dtype: object"
      ]
     },
     "execution_count": 149,
     "metadata": {},
     "output_type": "execute_result"
    }
   ],
   "source": [
    "df['Date'] = df['timeStamp'].apply(lambda x: x.date())\n",
    "df['Date']"
   ]
  },
  {
   "cell_type": "code",
   "execution_count": 154,
   "id": "a3c0d3b4-a400-412c-b115-932cdbaad5cf",
   "metadata": {},
   "outputs": [],
   "source": [
    "bydate = df.groupby('Date').count()"
   ]
  },
  {
   "cell_type": "code",
   "execution_count": 155,
   "id": "c08bab75-6970-487a-9edb-16df21b3f332",
   "metadata": {},
   "outputs": [
    {
     "data": {
      "image/png": "[encoded data removed]",
      "text/plain": [
       "<Figure size 1000x600 with 1 Axes>"
      ]
     },
     "metadata": {},
     "output_type": "display_data"
    }
   ],
   "source": [
    "plt.figure(figsize=(10,6))\n",
    "sns.lineplot(x = 'Date', y = 'Reason', data = bydate)\n",
    "plt.title('Total calls by date')\n",
    "plt.ylabel('Number of 911 Calls') \n",
    "plt.tight_layout()\n",
    "plt.show()"
   ]
  },
  {
   "cell_type": "markdown",
   "id": "9744563b-f091-4a1e-a568-eb97fd390409",
   "metadata": {},
   "source": [
    "Let's separate this plot by reasons now, so we can have greater detail and compare them. This will allow analyse what reason is actually driving the call density pattern."
   ]
  },
  {
   "cell_type": "code",
   "execution_count": 171,
   "id": "f1cc0ad3-a353-4235-9938-bb835a4a4ea9",
   "metadata": {},
   "outputs": [
    {
     "data": {
      "text/html": [
       "<div>\n",
       "<style scoped>\n",
       "    .dataframe tbody tr th:only-of-type {\n",
       "        vertical-align: middle;\n",
       "    }\n",
       "\n",
       "    .dataframe tbody tr th {\n",
       "        vertical-align: top;\n",
       "    }\n",
       "\n",
       "    .dataframe thead th {\n",
       "        text-align: right;\n",
       "    }\n",
       "</style>\n",
       "<table border=\"1\" class=\"dataframe\">\n",
       "  <thead>\n",
       "    <tr style=\"text-align: right;\">\n",
       "      <th></th>\n",
       "      <th>Reason</th>\n",
       "      <th>Date</th>\n",
       "      <th>index</th>\n",
       "      <th>lat</th>\n",
       "      <th>lng</th>\n",
       "      <th>desc</th>\n",
       "      <th>zip</th>\n",
       "      <th>title</th>\n",
       "      <th>timeStamp</th>\n",
       "      <th>twp</th>\n",
       "      <th>addr</th>\n",
       "      <th>e</th>\n",
       "      <th>Hour</th>\n",
       "      <th>Month</th>\n",
       "      <th>Dayofweek</th>\n",
       "    </tr>\n",
       "  </thead>\n",
       "  <tbody>\n",
       "    <tr>\n",
       "      <th>0</th>\n",
       "      <td>EMS</td>\n",
       "      <td>2015-12-10</td>\n",
       "      <td>57</td>\n",
       "      <td>57</td>\n",
       "      <td>57</td>\n",
       "      <td>57</td>\n",
       "      <td>52</td>\n",
       "      <td>57</td>\n",
       "      <td>57</td>\n",
       "      <td>57</td>\n",
       "      <td>57</td>\n",
       "      <td>57</td>\n",
       "      <td>57</td>\n",
       "      <td>57</td>\n",
       "      <td>57</td>\n",
       "    </tr>\n",
       "    <tr>\n",
       "      <th>1</th>\n",
       "      <td>EMS</td>\n",
       "      <td>2015-12-11</td>\n",
       "      <td>186</td>\n",
       "      <td>186</td>\n",
       "      <td>186</td>\n",
       "      <td>186</td>\n",
       "      <td>166</td>\n",
       "      <td>186</td>\n",
       "      <td>186</td>\n",
       "      <td>186</td>\n",
       "      <td>186</td>\n",
       "      <td>186</td>\n",
       "      <td>186</td>\n",
       "      <td>186</td>\n",
       "      <td>186</td>\n",
       "    </tr>\n",
       "    <tr>\n",
       "      <th>2</th>\n",
       "      <td>EMS</td>\n",
       "      <td>2015-12-12</td>\n",
       "      <td>189</td>\n",
       "      <td>189</td>\n",
       "      <td>189</td>\n",
       "      <td>189</td>\n",
       "      <td>171</td>\n",
       "      <td>189</td>\n",
       "      <td>189</td>\n",
       "      <td>189</td>\n",
       "      <td>189</td>\n",
       "      <td>189</td>\n",
       "      <td>189</td>\n",
       "      <td>189</td>\n",
       "      <td>189</td>\n",
       "    </tr>\n",
       "    <tr>\n",
       "      <th>3</th>\n",
       "      <td>EMS</td>\n",
       "      <td>2015-12-13</td>\n",
       "      <td>190</td>\n",
       "      <td>190</td>\n",
       "      <td>190</td>\n",
       "      <td>190</td>\n",
       "      <td>178</td>\n",
       "      <td>190</td>\n",
       "      <td>190</td>\n",
       "      <td>190</td>\n",
       "      <td>190</td>\n",
       "      <td>190</td>\n",
       "      <td>190</td>\n",
       "      <td>190</td>\n",
       "      <td>190</td>\n",
       "    </tr>\n",
       "    <tr>\n",
       "      <th>4</th>\n",
       "      <td>EMS</td>\n",
       "      <td>2015-12-14</td>\n",
       "      <td>222</td>\n",
       "      <td>222</td>\n",
       "      <td>222</td>\n",
       "      <td>222</td>\n",
       "      <td>201</td>\n",
       "      <td>222</td>\n",
       "      <td>222</td>\n",
       "      <td>222</td>\n",
       "      <td>222</td>\n",
       "      <td>222</td>\n",
       "      <td>222</td>\n",
       "      <td>222</td>\n",
       "      <td>222</td>\n",
       "    </tr>\n",
       "  </tbody>\n",
       "</table>\n",
       "</div>"
      ],
      "text/plain": [
       "  Reason        Date  index  lat  lng  desc  zip  title  timeStamp  twp  addr  \\\n",
       "0    EMS  2015-12-10     57   57   57    57   52     57         57   57    57   \n",
       "1    EMS  2015-12-11    186  186  186   186  166    186        186  186   186   \n",
       "2    EMS  2015-12-12    189  189  189   189  171    189        189  189   189   \n",
       "3    EMS  2015-12-13    190  190  190   190  178    190        190  190   190   \n",
       "4    EMS  2015-12-14    222  222  222   222  201    222        222  222   222   \n",
       "\n",
       "     e  Hour  Month  Dayofweek  \n",
       "0   57    57     57         57  \n",
       "1  186   186    186        186  \n",
       "2  189   189    189        189  \n",
       "3  190   190    190        190  \n",
       "4  222   222    222        222  "
      ]
     },
     "execution_count": 171,
     "metadata": {},
     "output_type": "execute_result"
    }
   ],
   "source": [
    "# Group once for all reasons\n",
    "bydate = df.groupby(['Reason', 'Date']).count().reset_index()\n",
    "bydate.head()"
   ]
  },
  {
   "cell_type": "code",
   "execution_count": 173,
   "id": "068873a4-362f-4ed3-b820-f7b696fd5a17",
   "metadata": {},
   "outputs": [
    {
     "data": {
      "image/png": "[encoded data removed]",
      "text/plain": [
       "<Figure size 1200x400 with 3 Axes>"
      ]
     },
     "metadata": {},
     "output_type": "display_data"
    }
   ],
   "source": [
    "# Plot with one panel per Reason\n",
    "g = sns.FacetGrid(bydate, col='Reason', col_wrap=3, height=4, sharey=True)\n",
    "g.map_dataframe(sns.lineplot, x='Date', y='twp')  # or any numeric column representing counts\n",
    "\n",
    "g.set_titles(\"{col_name}\")  # each panel labeled by Reason\n",
    "g.set_axis_labels(\"Date\", \"Number of 911 Calls\")\n",
    "g.set_xticklabels(rotation=45, ha='right')\n",
    "g.fig.suptitle(\"Total 911 Calls by Date for Each Reason\", fontsize=14)\n",
    "plt.tight_layout()\n",
    "plt.show()"
   ]
  },
  {
   "cell_type": "markdown",
   "id": "8ad00914-b2fc-4f17-aa0d-a2941564498a",
   "metadata": {},
   "source": [
    "911 calls are often more common about trafic reasons, followed by EMS and finally Fire. We can appeciate clear peaks and valleys in the data with specially bad months for traffic related calls early 2016"
   ]
  },
  {
   "cell_type": "markdown",
   "id": "532784bc-c380-4c1f-85ba-01c8251311fd",
   "metadata": {},
   "source": [
    "Next, I want to create a heatmap of hour and day of the week to better understand the temporal call clusters"
   ]
  },
  {
   "cell_type": "code",
   "execution_count": 197,
   "id": "3c8bb466-1d31-4db2-83f2-7b02a2e10085",
   "metadata": {},
   "outputs": [],
   "source": [
    "days_order = ['Mon', 'Tue', 'Wed', 'Thu', 'Fri', 'Sat', 'Sun']\n",
    "df['Dayofweek'] = pd.Categorical(df['Dayofweek'], categories=days_order, ordered=True)"
   ]
  },
  {
   "cell_type": "code",
   "execution_count": 198,
   "id": "f4352592-199c-4d36-84ec-9bd4c827e8c6",
   "metadata": {},
   "outputs": [
    {
     "name": "stderr",
     "output_type": "stream",
     "text": [
      "/var/folders/vx/4t7xz04d6_39xszmh_6hq4br0000gn/T/ipykernel_5328/1888750514.py:1: FutureWarning: The default of observed=False is deprecated and will be changed to True in a future version of pandas. Pass observed=False to retain current behavior or observed=True to adopt the future default and silence this warning.\n",
      "  heat_df = df.groupby(['Dayofweek', 'Hour']).count()\n"
     ]
    },
    {
     "data": {
      "text/html": [
       "<div>\n",
       "<style scoped>\n",
       "    .dataframe tbody tr th:only-of-type {\n",
       "        vertical-align: middle;\n",
       "    }\n",
       "\n",
       "    .dataframe tbody tr th {\n",
       "        vertical-align: top;\n",
       "    }\n",
       "\n",
       "    .dataframe thead th {\n",
       "        text-align: right;\n",
       "    }\n",
       "</style>\n",
       "<table border=\"1\" class=\"dataframe\">\n",
       "  <thead>\n",
       "    <tr style=\"text-align: right;\">\n",
       "      <th></th>\n",
       "      <th></th>\n",
       "      <th>index</th>\n",
       "      <th>lat</th>\n",
       "      <th>lng</th>\n",
       "      <th>desc</th>\n",
       "      <th>zip</th>\n",
       "      <th>title</th>\n",
       "      <th>timeStamp</th>\n",
       "      <th>twp</th>\n",
       "      <th>addr</th>\n",
       "      <th>e</th>\n",
       "      <th>Reason</th>\n",
       "      <th>Month</th>\n",
       "      <th>Date</th>\n",
       "    </tr>\n",
       "    <tr>\n",
       "      <th>Dayofweek</th>\n",
       "      <th>Hour</th>\n",
       "      <th></th>\n",
       "      <th></th>\n",
       "      <th></th>\n",
       "      <th></th>\n",
       "      <th></th>\n",
       "      <th></th>\n",
       "      <th></th>\n",
       "      <th></th>\n",
       "      <th></th>\n",
       "      <th></th>\n",
       "      <th></th>\n",
       "      <th></th>\n",
       "      <th></th>\n",
       "    </tr>\n",
       "  </thead>\n",
       "  <tbody>\n",
       "    <tr>\n",
       "      <th rowspan=\"5\" valign=\"top\">Mon</th>\n",
       "      <th>0</th>\n",
       "      <td>282</td>\n",
       "      <td>282</td>\n",
       "      <td>282</td>\n",
       "      <td>282</td>\n",
       "      <td>243</td>\n",
       "      <td>282</td>\n",
       "      <td>282</td>\n",
       "      <td>282</td>\n",
       "      <td>282</td>\n",
       "      <td>282</td>\n",
       "      <td>282</td>\n",
       "      <td>282</td>\n",
       "      <td>282</td>\n",
       "    </tr>\n",
       "    <tr>\n",
       "      <th>1</th>\n",
       "      <td>221</td>\n",
       "      <td>221</td>\n",
       "      <td>221</td>\n",
       "      <td>221</td>\n",
       "      <td>198</td>\n",
       "      <td>221</td>\n",
       "      <td>221</td>\n",
       "      <td>220</td>\n",
       "      <td>221</td>\n",
       "      <td>221</td>\n",
       "      <td>221</td>\n",
       "      <td>221</td>\n",
       "      <td>221</td>\n",
       "    </tr>\n",
       "    <tr>\n",
       "      <th>2</th>\n",
       "      <td>201</td>\n",
       "      <td>201</td>\n",
       "      <td>201</td>\n",
       "      <td>201</td>\n",
       "      <td>183</td>\n",
       "      <td>201</td>\n",
       "      <td>201</td>\n",
       "      <td>201</td>\n",
       "      <td>201</td>\n",
       "      <td>201</td>\n",
       "      <td>201</td>\n",
       "      <td>201</td>\n",
       "      <td>201</td>\n",
       "    </tr>\n",
       "    <tr>\n",
       "      <th>3</th>\n",
       "      <td>194</td>\n",
       "      <td>194</td>\n",
       "      <td>194</td>\n",
       "      <td>194</td>\n",
       "      <td>173</td>\n",
       "      <td>194</td>\n",
       "      <td>194</td>\n",
       "      <td>194</td>\n",
       "      <td>194</td>\n",
       "      <td>194</td>\n",
       "      <td>194</td>\n",
       "      <td>194</td>\n",
       "      <td>194</td>\n",
       "    </tr>\n",
       "    <tr>\n",
       "      <th>4</th>\n",
       "      <td>204</td>\n",
       "      <td>204</td>\n",
       "      <td>204</td>\n",
       "      <td>204</td>\n",
       "      <td>185</td>\n",
       "      <td>204</td>\n",
       "      <td>204</td>\n",
       "      <td>204</td>\n",
       "      <td>203</td>\n",
       "      <td>204</td>\n",
       "      <td>204</td>\n",
       "      <td>204</td>\n",
       "      <td>204</td>\n",
       "    </tr>\n",
       "  </tbody>\n",
       "</table>\n",
       "</div>"
      ],
      "text/plain": [
       "                index  lat  lng  desc  zip  title  timeStamp  twp  addr    e  \\\n",
       "Dayofweek Hour                                                                 \n",
       "Mon       0       282  282  282   282  243    282        282  282   282  282   \n",
       "          1       221  221  221   221  198    221        221  220   221  221   \n",
       "          2       201  201  201   201  183    201        201  201   201  201   \n",
       "          3       194  194  194   194  173    194        194  194   194  194   \n",
       "          4       204  204  204   204  185    204        204  204   203  204   \n",
       "\n",
       "                Reason  Month  Date  \n",
       "Dayofweek Hour                       \n",
       "Mon       0        282    282   282  \n",
       "          1        221    221   221  \n",
       "          2        201    201   201  \n",
       "          3        194    194   194  \n",
       "          4        204    204   204  "
      ]
     },
     "execution_count": 198,
     "metadata": {},
     "output_type": "execute_result"
    }
   ],
   "source": [
    "heat_df = df.groupby(['Dayofweek', 'Hour']).count()\n",
    "heat_df.head()"
   ]
  },
  {
   "cell_type": "code",
   "execution_count": 199,
   "id": "80b11761-0f50-4917-8548-a58a498dffd0",
   "metadata": {},
   "outputs": [
    {
     "data": {
      "text/html": [
       "<div>\n",
       "<style scoped>\n",
       "    .dataframe tbody tr th:only-of-type {\n",
       "        vertical-align: middle;\n",
       "    }\n",
       "\n",
       "    .dataframe tbody tr th {\n",
       "        vertical-align: top;\n",
       "    }\n",
       "\n",
       "    .dataframe thead th {\n",
       "        text-align: right;\n",
       "    }\n",
       "</style>\n",
       "<table border=\"1\" class=\"dataframe\">\n",
       "  <thead>\n",
       "    <tr style=\"text-align: right;\">\n",
       "      <th>Hour</th>\n",
       "      <th>0</th>\n",
       "      <th>1</th>\n",
       "      <th>2</th>\n",
       "      <th>3</th>\n",
       "      <th>4</th>\n",
       "      <th>5</th>\n",
       "      <th>6</th>\n",
       "      <th>7</th>\n",
       "      <th>8</th>\n",
       "      <th>9</th>\n",
       "      <th>...</th>\n",
       "      <th>14</th>\n",
       "      <th>15</th>\n",
       "      <th>16</th>\n",
       "      <th>17</th>\n",
       "      <th>18</th>\n",
       "      <th>19</th>\n",
       "      <th>20</th>\n",
       "      <th>21</th>\n",
       "      <th>22</th>\n",
       "      <th>23</th>\n",
       "    </tr>\n",
       "    <tr>\n",
       "      <th>Dayofweek</th>\n",
       "      <th></th>\n",
       "      <th></th>\n",
       "      <th></th>\n",
       "      <th></th>\n",
       "      <th></th>\n",
       "      <th></th>\n",
       "      <th></th>\n",
       "      <th></th>\n",
       "      <th></th>\n",
       "      <th></th>\n",
       "      <th></th>\n",
       "      <th></th>\n",
       "      <th></th>\n",
       "      <th></th>\n",
       "      <th></th>\n",
       "      <th></th>\n",
       "      <th></th>\n",
       "      <th></th>\n",
       "      <th></th>\n",
       "      <th></th>\n",
       "      <th></th>\n",
       "    </tr>\n",
       "  </thead>\n",
       "  <tbody>\n",
       "    <tr>\n",
       "      <th>Mon</th>\n",
       "      <td>282</td>\n",
       "      <td>221</td>\n",
       "      <td>201</td>\n",
       "      <td>194</td>\n",
       "      <td>204</td>\n",
       "      <td>267</td>\n",
       "      <td>397</td>\n",
       "      <td>653</td>\n",
       "      <td>819</td>\n",
       "      <td>786</td>\n",
       "      <td>...</td>\n",
       "      <td>869</td>\n",
       "      <td>913</td>\n",
       "      <td>989</td>\n",
       "      <td>997</td>\n",
       "      <td>885</td>\n",
       "      <td>746</td>\n",
       "      <td>613</td>\n",
       "      <td>497</td>\n",
       "      <td>472</td>\n",
       "      <td>325</td>\n",
       "    </tr>\n",
       "    <tr>\n",
       "      <th>Tue</th>\n",
       "      <td>269</td>\n",
       "      <td>240</td>\n",
       "      <td>186</td>\n",
       "      <td>170</td>\n",
       "      <td>209</td>\n",
       "      <td>239</td>\n",
       "      <td>415</td>\n",
       "      <td>655</td>\n",
       "      <td>889</td>\n",
       "      <td>880</td>\n",
       "      <td>...</td>\n",
       "      <td>943</td>\n",
       "      <td>938</td>\n",
       "      <td>1026</td>\n",
       "      <td>1019</td>\n",
       "      <td>905</td>\n",
       "      <td>731</td>\n",
       "      <td>647</td>\n",
       "      <td>571</td>\n",
       "      <td>462</td>\n",
       "      <td>274</td>\n",
       "    </tr>\n",
       "    <tr>\n",
       "      <th>Wed</th>\n",
       "      <td>250</td>\n",
       "      <td>216</td>\n",
       "      <td>189</td>\n",
       "      <td>209</td>\n",
       "      <td>156</td>\n",
       "      <td>255</td>\n",
       "      <td>410</td>\n",
       "      <td>701</td>\n",
       "      <td>875</td>\n",
       "      <td>808</td>\n",
       "      <td>...</td>\n",
       "      <td>904</td>\n",
       "      <td>867</td>\n",
       "      <td>990</td>\n",
       "      <td>1037</td>\n",
       "      <td>894</td>\n",
       "      <td>686</td>\n",
       "      <td>668</td>\n",
       "      <td>575</td>\n",
       "      <td>490</td>\n",
       "      <td>335</td>\n",
       "    </tr>\n",
       "    <tr>\n",
       "      <th>Thu</th>\n",
       "      <td>278</td>\n",
       "      <td>202</td>\n",
       "      <td>233</td>\n",
       "      <td>159</td>\n",
       "      <td>182</td>\n",
       "      <td>203</td>\n",
       "      <td>362</td>\n",
       "      <td>570</td>\n",
       "      <td>777</td>\n",
       "      <td>828</td>\n",
       "      <td>...</td>\n",
       "      <td>876</td>\n",
       "      <td>969</td>\n",
       "      <td>935</td>\n",
       "      <td>1013</td>\n",
       "      <td>810</td>\n",
       "      <td>698</td>\n",
       "      <td>617</td>\n",
       "      <td>553</td>\n",
       "      <td>424</td>\n",
       "      <td>354</td>\n",
       "    </tr>\n",
       "    <tr>\n",
       "      <th>Fri</th>\n",
       "      <td>275</td>\n",
       "      <td>235</td>\n",
       "      <td>191</td>\n",
       "      <td>175</td>\n",
       "      <td>201</td>\n",
       "      <td>194</td>\n",
       "      <td>372</td>\n",
       "      <td>598</td>\n",
       "      <td>742</td>\n",
       "      <td>752</td>\n",
       "      <td>...</td>\n",
       "      <td>932</td>\n",
       "      <td>980</td>\n",
       "      <td>1039</td>\n",
       "      <td>980</td>\n",
       "      <td>820</td>\n",
       "      <td>696</td>\n",
       "      <td>667</td>\n",
       "      <td>559</td>\n",
       "      <td>514</td>\n",
       "      <td>474</td>\n",
       "    </tr>\n",
       "    <tr>\n",
       "      <th>Sat</th>\n",
       "      <td>375</td>\n",
       "      <td>301</td>\n",
       "      <td>263</td>\n",
       "      <td>260</td>\n",
       "      <td>224</td>\n",
       "      <td>231</td>\n",
       "      <td>257</td>\n",
       "      <td>391</td>\n",
       "      <td>459</td>\n",
       "      <td>640</td>\n",
       "      <td>...</td>\n",
       "      <td>789</td>\n",
       "      <td>796</td>\n",
       "      <td>848</td>\n",
       "      <td>757</td>\n",
       "      <td>778</td>\n",
       "      <td>696</td>\n",
       "      <td>628</td>\n",
       "      <td>572</td>\n",
       "      <td>506</td>\n",
       "      <td>467</td>\n",
       "    </tr>\n",
       "    <tr>\n",
       "      <th>Sun</th>\n",
       "      <td>383</td>\n",
       "      <td>306</td>\n",
       "      <td>286</td>\n",
       "      <td>268</td>\n",
       "      <td>242</td>\n",
       "      <td>240</td>\n",
       "      <td>300</td>\n",
       "      <td>402</td>\n",
       "      <td>483</td>\n",
       "      <td>620</td>\n",
       "      <td>...</td>\n",
       "      <td>684</td>\n",
       "      <td>691</td>\n",
       "      <td>663</td>\n",
       "      <td>714</td>\n",
       "      <td>670</td>\n",
       "      <td>655</td>\n",
       "      <td>537</td>\n",
       "      <td>461</td>\n",
       "      <td>415</td>\n",
       "      <td>330</td>\n",
       "    </tr>\n",
       "  </tbody>\n",
       "</table>\n",
       "<p>7 rows × 24 columns</p>\n",
       "</div>"
      ],
      "text/plain": [
       "Hour        0    1    2    3    4    5    6    7    8    9   ...   14   15  \\\n",
       "Dayofweek                                                    ...             \n",
       "Mon        282  221  201  194  204  267  397  653  819  786  ...  869  913   \n",
       "Tue        269  240  186  170  209  239  415  655  889  880  ...  943  938   \n",
       "Wed        250  216  189  209  156  255  410  701  875  808  ...  904  867   \n",
       "Thu        278  202  233  159  182  203  362  570  777  828  ...  876  969   \n",
       "Fri        275  235  191  175  201  194  372  598  742  752  ...  932  980   \n",
       "Sat        375  301  263  260  224  231  257  391  459  640  ...  789  796   \n",
       "Sun        383  306  286  268  242  240  300  402  483  620  ...  684  691   \n",
       "\n",
       "Hour         16    17   18   19   20   21   22   23  \n",
       "Dayofweek                                            \n",
       "Mon         989   997  885  746  613  497  472  325  \n",
       "Tue        1026  1019  905  731  647  571  462  274  \n",
       "Wed         990  1037  894  686  668  575  490  335  \n",
       "Thu         935  1013  810  698  617  553  424  354  \n",
       "Fri        1039   980  820  696  667  559  514  474  \n",
       "Sat         848   757  778  696  628  572  506  467  \n",
       "Sun         663   714  670  655  537  461  415  330  \n",
       "\n",
       "[7 rows x 24 columns]"
      ]
     },
     "execution_count": 199,
     "metadata": {},
     "output_type": "execute_result"
    }
   ],
   "source": [
    "heat_df = heat_df['Reason'].unstack()\n",
    "heat_df"
   ]
  },
  {
   "cell_type": "code",
   "execution_count": 200,
   "id": "c1680875-d338-4dc8-9ba5-41f183b6a6bf",
   "metadata": {},
   "outputs": [
    {
     "data": {
      "image/png": "[encoded data removed]",
      "text/plain": [
       "<Figure size 1000x500 with 2 Axes>"
      ]
     },
     "metadata": {},
     "output_type": "display_data"
    }
   ],
   "source": [
    "plt.figure(figsize=(10,5))\n",
    "sns.heatmap(heat_df,cmap='viridis')\n",
    "plt.gca().invert_yaxis()\n",
    "plt.title('911 Calls by Hour and Day of Week')\n",
    "plt.show()"
   ]
  },
  {
   "cell_type": "markdown",
   "id": "f9ceec98-e180-4736-8fb6-943f3969b1f4",
   "metadata": {},
   "source": [
    "We can clearly see how the mayority of calls are produced during the day time and they peak in the afternoon between 4-5 pm. Overall the number of calls decline over the weekends"
   ]
  },
  {
   "cell_type": "code",
   "execution_count": 201,
   "id": "dd14123d-9590-4320-bcf8-093ed8fafe11",
   "metadata": {},
   "outputs": [
    {
     "data": {
      "text/plain": [
       "<Figure size 1000x500 with 0 Axes>"
      ]
     },
     "metadata": {},
     "output_type": "display_data"
    },
    {
     "data": {
      "image/png": "[encoded data removed]",
      "text/plain": [
       "<Figure size 1000x1000 with 4 Axes>"
      ]
     },
     "metadata": {},
     "output_type": "display_data"
    }
   ],
   "source": [
    "plt.figure(figsize=(10,5))\n",
    "sns.clustermap(heat_df,cmap='viridis')\n",
    "plt.gca().invert_yaxis()\n",
    "plt.title('911 Calls by Hour and Day of Week')\n",
    "plt.show()"
   ]
  },
  {
   "cell_type": "markdown",
   "id": "8b8e0f82-0f7a-455b-9c14-698c8546db27",
   "metadata": {},
   "source": [
    "The cluster plot shows the above pattern even clearer, with daytime being at the left of the plot and weekends being at the bottom"
   ]
  },
  {
   "cell_type": "markdown",
   "id": "4702525a-dcf3-431a-8b1c-6382e8b2dc93",
   "metadata": {},
   "source": [
    "We can do the same now but showing month instead of hour"
   ]
  },
  {
   "cell_type": "code",
   "execution_count": 203,
   "id": "f82375cc-7be5-414a-be30-db4090c2355d",
   "metadata": {},
   "outputs": [
    {
     "name": "stderr",
     "output_type": "stream",
     "text": [
      "/var/folders/vx/4t7xz04d6_39xszmh_6hq4br0000gn/T/ipykernel_5328/3551616031.py:1: FutureWarning: The default of observed=False is deprecated and will be changed to True in a future version of pandas. Pass observed=False to retain current behavior or observed=True to adopt the future default and silence this warning.\n",
      "  heat_df_month = df.groupby(['Dayofweek', 'Month']).count()\n"
     ]
    },
    {
     "data": {
      "text/html": [
       "<div>\n",
       "<style scoped>\n",
       "    .dataframe tbody tr th:only-of-type {\n",
       "        vertical-align: middle;\n",
       "    }\n",
       "\n",
       "    .dataframe tbody tr th {\n",
       "        vertical-align: top;\n",
       "    }\n",
       "\n",
       "    .dataframe thead th {\n",
       "        text-align: right;\n",
       "    }\n",
       "</style>\n",
       "<table border=\"1\" class=\"dataframe\">\n",
       "  <thead>\n",
       "    <tr style=\"text-align: right;\">\n",
       "      <th>Month</th>\n",
       "      <th>1</th>\n",
       "      <th>2</th>\n",
       "      <th>3</th>\n",
       "      <th>4</th>\n",
       "      <th>5</th>\n",
       "      <th>6</th>\n",
       "      <th>7</th>\n",
       "      <th>8</th>\n",
       "      <th>12</th>\n",
       "    </tr>\n",
       "    <tr>\n",
       "      <th>Dayofweek</th>\n",
       "      <th></th>\n",
       "      <th></th>\n",
       "      <th></th>\n",
       "      <th></th>\n",
       "      <th></th>\n",
       "      <th></th>\n",
       "      <th></th>\n",
       "      <th></th>\n",
       "      <th></th>\n",
       "    </tr>\n",
       "  </thead>\n",
       "  <tbody>\n",
       "    <tr>\n",
       "      <th>Mon</th>\n",
       "      <td>1727</td>\n",
       "      <td>1964</td>\n",
       "      <td>1535</td>\n",
       "      <td>1598</td>\n",
       "      <td>1779</td>\n",
       "      <td>1617</td>\n",
       "      <td>1692</td>\n",
       "      <td>1511</td>\n",
       "      <td>1257</td>\n",
       "    </tr>\n",
       "    <tr>\n",
       "      <th>Tue</th>\n",
       "      <td>1973</td>\n",
       "      <td>1753</td>\n",
       "      <td>1884</td>\n",
       "      <td>1430</td>\n",
       "      <td>1918</td>\n",
       "      <td>1676</td>\n",
       "      <td>1670</td>\n",
       "      <td>1612</td>\n",
       "      <td>1234</td>\n",
       "    </tr>\n",
       "    <tr>\n",
       "      <th>Wed</th>\n",
       "      <td>1700</td>\n",
       "      <td>1903</td>\n",
       "      <td>1889</td>\n",
       "      <td>1517</td>\n",
       "      <td>1538</td>\n",
       "      <td>2058</td>\n",
       "      <td>1717</td>\n",
       "      <td>1295</td>\n",
       "      <td>1262</td>\n",
       "    </tr>\n",
       "    <tr>\n",
       "      <th>Thu</th>\n",
       "      <td>1584</td>\n",
       "      <td>1596</td>\n",
       "      <td>1900</td>\n",
       "      <td>1601</td>\n",
       "      <td>1590</td>\n",
       "      <td>2065</td>\n",
       "      <td>1646</td>\n",
       "      <td>1230</td>\n",
       "      <td>1266</td>\n",
       "    </tr>\n",
       "    <tr>\n",
       "      <th>Fri</th>\n",
       "      <td>1970</td>\n",
       "      <td>1581</td>\n",
       "      <td>1525</td>\n",
       "      <td>1958</td>\n",
       "      <td>1730</td>\n",
       "      <td>1649</td>\n",
       "      <td>2045</td>\n",
       "      <td>1310</td>\n",
       "      <td>1065</td>\n",
       "    </tr>\n",
       "  </tbody>\n",
       "</table>\n",
       "</div>"
      ],
      "text/plain": [
       "Month        1     2     3     4     5     6     7     8     12\n",
       "Dayofweek                                                      \n",
       "Mon        1727  1964  1535  1598  1779  1617  1692  1511  1257\n",
       "Tue        1973  1753  1884  1430  1918  1676  1670  1612  1234\n",
       "Wed        1700  1903  1889  1517  1538  2058  1717  1295  1262\n",
       "Thu        1584  1596  1900  1601  1590  2065  1646  1230  1266\n",
       "Fri        1970  1581  1525  1958  1730  1649  2045  1310  1065"
      ]
     },
     "execution_count": 203,
     "metadata": {},
     "output_type": "execute_result"
    }
   ],
   "source": [
    "heat_df_month = df.groupby(['Dayofweek', 'Month']).count()\n",
    "heat_df_month = heat_df_month['Reason'].unstack()\n",
    "heat_df_month.head()"
   ]
  },
  {
   "cell_type": "code",
   "execution_count": 204,
   "id": "3b4dba87-e292-441a-b416-3d6f38c68066",
   "metadata": {},
   "outputs": [
    {
     "data": {
      "image/png": "[encoded data removed]",
      "text/plain": [
       "<Figure size 1000x500 with 2 Axes>"
      ]
     },
     "metadata": {},
     "output_type": "display_data"
    }
   ],
   "source": [
    "plt.figure(figsize=(10,5))\n",
    "sns.heatmap(heat_df_month,cmap='viridis')\n",
    "plt.gca().invert_yaxis()\n",
    "plt.title('911 Calls by Month and Day of Week')\n",
    "plt.show()"
   ]
  },
  {
   "cell_type": "markdown",
   "id": "2dbb4d30-d69c-4cf5-b174-891c25bc3546",
   "metadata": {},
   "source": [
    "Calls seems to decline in december. Saturdays in January seem to have a peak in the number of calls"
   ]
  },
  {
   "cell_type": "code",
   "execution_count": 205,
   "id": "fdee39a3-cdb9-4f49-969b-ccec856f8d85",
   "metadata": {},
   "outputs": [
    {
     "data": {
      "text/plain": [
       "<Figure size 1000x500 with 0 Axes>"
      ]
     },
     "metadata": {},
     "output_type": "display_data"
    },
    {
     "data": {
      "image/png": "[encoded data removed]",
      "text/plain": [
       "<Figure size 1000x1000 with 4 Axes>"
      ]
     },
     "metadata": {},
     "output_type": "display_data"
    }
   ],
   "source": [
    "plt.figure(figsize=(10,5))\n",
    "sns.clustermap(heat_df_month,cmap='viridis')\n",
    "plt.gca().invert_yaxis()\n",
    "plt.title('911 Calls by Hour and Day of Week')\n",
    "plt.show()"
   ]
  },
  {
   "cell_type": "markdown",
   "id": "bd1d73c4-a867-44aa-bc1c-5c6669a7760a",
   "metadata": {},
   "source": [
    "## Mapping the calls"
   ]
  },
  {
   "cell_type": "code",
   "execution_count": 222,
   "id": "2ddf66a0-90bd-40de-b770-97b7687b7b3b",
   "metadata": {},
   "outputs": [
    {
     "data": {
      "text/html": [
       "<div>\n",
       "<style scoped>\n",
       "    .dataframe tbody tr th:only-of-type {\n",
       "        vertical-align: middle;\n",
       "    }\n",
       "\n",
       "    .dataframe tbody tr th {\n",
       "        vertical-align: top;\n",
       "    }\n",
       "\n",
       "    .dataframe thead th {\n",
       "        text-align: right;\n",
       "    }\n",
       "</style>\n",
       "<table border=\"1\" class=\"dataframe\">\n",
       "  <thead>\n",
       "    <tr style=\"text-align: right;\">\n",
       "      <th></th>\n",
       "      <th>zip</th>\n",
       "      <th>twp</th>\n",
       "      <th>Total_Calls</th>\n",
       "    </tr>\n",
       "  </thead>\n",
       "  <tbody>\n",
       "    <tr>\n",
       "      <th>0</th>\n",
       "      <td>19401.0</td>\n",
       "      <td>NORRISTOWN</td>\n",
       "      <td>5561</td>\n",
       "    </tr>\n",
       "    <tr>\n",
       "      <th>1</th>\n",
       "      <td>19464.0</td>\n",
       "      <td>POTTSTOWN</td>\n",
       "      <td>4030</td>\n",
       "    </tr>\n",
       "    <tr>\n",
       "      <th>2</th>\n",
       "      <td>19406.0</td>\n",
       "      <td>UPPER MERION</td>\n",
       "      <td>3119</td>\n",
       "    </tr>\n",
       "    <tr>\n",
       "      <th>3</th>\n",
       "      <td>19403.0</td>\n",
       "      <td>LOWER PROVIDENCE</td>\n",
       "      <td>2511</td>\n",
       "    </tr>\n",
       "    <tr>\n",
       "      <th>4</th>\n",
       "      <td>19468.0</td>\n",
       "      <td>LIMERICK</td>\n",
       "      <td>1875</td>\n",
       "    </tr>\n",
       "  </tbody>\n",
       "</table>\n",
       "</div>"
      ],
      "text/plain": [
       "       zip               twp  Total_Calls\n",
       "0  19401.0        NORRISTOWN         5561\n",
       "1  19464.0         POTTSTOWN         4030\n",
       "2  19406.0      UPPER MERION         3119\n",
       "3  19403.0  LOWER PROVIDENCE         2511\n",
       "4  19468.0          LIMERICK         1875"
      ]
     },
     "execution_count": 222,
     "metadata": {},
     "output_type": "execute_result"
    }
   ],
   "source": [
    "calls_by_zip = df[['zip', 'twp']].value_counts().reset_index()\n",
    "calls_by_zip.columns = ['zip', 'twp','Total_Calls']\n",
    "calls_by_zip.head()"
   ]
  },
  {
   "cell_type": "code",
   "execution_count": 225,
   "id": "bf0f2cb9-e77d-422b-857c-72b04ed39598",
   "metadata": {},
   "outputs": [
    {
     "data": {
      "text/html": [
       "<div>\n",
       "<style scoped>\n",
       "    .dataframe tbody tr th:only-of-type {\n",
       "        vertical-align: middle;\n",
       "    }\n",
       "\n",
       "    .dataframe tbody tr th {\n",
       "        vertical-align: top;\n",
       "    }\n",
       "\n",
       "    .dataframe thead th {\n",
       "        text-align: right;\n",
       "    }\n",
       "</style>\n",
       "<table border=\"1\" class=\"dataframe\">\n",
       "  <thead>\n",
       "    <tr style=\"text-align: right;\">\n",
       "      <th></th>\n",
       "      <th>zip</th>\n",
       "      <th>Total_Calls</th>\n",
       "      <th>twp</th>\n",
       "    </tr>\n",
       "  </thead>\n",
       "  <tbody>\n",
       "    <tr>\n",
       "      <th>0</th>\n",
       "      <td>18036.0</td>\n",
       "      <td>2</td>\n",
       "      <td>LEHIGH COUNTY</td>\n",
       "    </tr>\n",
       "    <tr>\n",
       "      <th>1</th>\n",
       "      <td>18041.0</td>\n",
       "      <td>414</td>\n",
       "      <td>EAST GREENVILLE</td>\n",
       "    </tr>\n",
       "    <tr>\n",
       "      <th>2</th>\n",
       "      <td>18054.0</td>\n",
       "      <td>326</td>\n",
       "      <td>MARLBOROUGH</td>\n",
       "    </tr>\n",
       "    <tr>\n",
       "      <th>3</th>\n",
       "      <td>18056.0</td>\n",
       "      <td>6</td>\n",
       "      <td>UPPER HANOVER</td>\n",
       "    </tr>\n",
       "    <tr>\n",
       "      <th>4</th>\n",
       "      <td>18070.0</td>\n",
       "      <td>54</td>\n",
       "      <td>UPPER HANOVER</td>\n",
       "    </tr>\n",
       "    <tr>\n",
       "      <th>...</th>\n",
       "      <td>...</td>\n",
       "      <td>...</td>\n",
       "      <td>...</td>\n",
       "    </tr>\n",
       "    <tr>\n",
       "      <th>98</th>\n",
       "      <td>19512.0</td>\n",
       "      <td>220</td>\n",
       "      <td>DOUGLASS</td>\n",
       "    </tr>\n",
       "    <tr>\n",
       "      <th>99</th>\n",
       "      <td>19518.0</td>\n",
       "      <td>57</td>\n",
       "      <td>BERKS COUNTY</td>\n",
       "    </tr>\n",
       "    <tr>\n",
       "      <th>100</th>\n",
       "      <td>19525.0</td>\n",
       "      <td>965</td>\n",
       "      <td>NEW HANOVER</td>\n",
       "    </tr>\n",
       "    <tr>\n",
       "      <th>101</th>\n",
       "      <td>36107.0</td>\n",
       "      <td>1</td>\n",
       "      <td>MONTGOMERY</td>\n",
       "    </tr>\n",
       "    <tr>\n",
       "      <th>102</th>\n",
       "      <td>77316.0</td>\n",
       "      <td>1</td>\n",
       "      <td>MONTGOMERY</td>\n",
       "    </tr>\n",
       "  </tbody>\n",
       "</table>\n",
       "<p>103 rows × 3 columns</p>\n",
       "</div>"
      ],
      "text/plain": [
       "         zip  Total_Calls              twp\n",
       "0    18036.0            2    LEHIGH COUNTY\n",
       "1    18041.0          414  EAST GREENVILLE\n",
       "2    18054.0          326      MARLBOROUGH\n",
       "3    18056.0            6    UPPER HANOVER\n",
       "4    18070.0           54    UPPER HANOVER\n",
       "..       ...          ...              ...\n",
       "98   19512.0          220         DOUGLASS\n",
       "99   19518.0           57     BERKS COUNTY\n",
       "100  19525.0          965      NEW HANOVER\n",
       "101  36107.0            1       MONTGOMERY\n",
       "102  77316.0            1       MONTGOMERY\n",
       "\n",
       "[103 rows x 3 columns]"
      ]
     },
     "execution_count": 225,
     "metadata": {},
     "output_type": "execute_result"
    }
   ],
   "source": [
    "zip_summary = (\n",
    "    calls_by_zip.groupby('zip')\n",
    "    .agg({'Total_Calls': 'sum', 'twp': 'first'})\n",
    "    .reset_index()\n",
    ")\n",
    "zip_summary"
   ]
  },
  {
   "cell_type": "code",
   "execution_count": 237,
   "id": "bbe9a704-af87-4481-be2d-1086a8e5fd56",
   "metadata": {},
   "outputs": [
    {
     "data": {
      "application/vnd.plotly.v1+json": {
       "config": {
        "plotlyServerURL": "https://plot.ly"
       },
       "data": [
        {
         "coloraxis": "coloraxis",
         "customdata": [
          [
           18036,
           2
          ],
          [
           18041,
           414
          ],
          [
           18054,
           326
          ],
          [
           18056,
           6
          ],
          [
           18070,
           54
          ],
          [
           18073,
           736
          ],
          [
           18074,
           435
          ],
          [
           18076,
           306
          ],
          [
           18092,
           14
          ],
          [
           18103,
           4
          ],
          [
           18914,
           66
          ],
          [
           18915,
           117
          ],
          [
           18927,
           2
          ],
          [
           18932,
           11
          ],
          [
           18936,
           254
          ],
          [
           18951,
           10
          ],
          [
           18960,
           34
          ],
          [
           18964,
           1286
          ],
          [
           18966,
           44
          ],
          [
           18969,
           672
          ],
          [
           18974,
           215
          ],
          [
           18976,
           44
          ],
          [
           19001,
           1514
          ],
          [
           19002,
           3050
          ],
          [
           19003,
           1094
          ],
          [
           19004,
           1280
          ],
          [
           19006,
           2256
          ],
          [
           19009,
           49
          ],
          [
           19010,
           1316
          ],
          [
           19012,
           593
          ],
          [
           19025,
           493
          ],
          [
           19027,
           1818
          ],
          [
           19031,
           566
          ],
          [
           19034,
           796
          ],
          [
           19035,
           481
          ],
          [
           19038,
           2578
          ],
          [
           19040,
           2040
          ],
          [
           19041,
           436
          ],
          [
           19044,
           1594
          ],
          [
           19046,
           2564
          ],
          [
           19053,
           6
          ],
          [
           19066,
           451
          ],
          [
           19072,
           728
          ],
          [
           19075,
           302
          ],
          [
           19082,
           3
          ],
          [
           19083,
           20
          ],
          [
           19085,
           303
          ],
          [
           19087,
           344
          ],
          [
           19090,
           2635
          ],
          [
           19095,
           1023
          ],
          [
           19096,
           1115
          ],
          [
           19107,
           1
          ],
          [
           19111,
           36
          ],
          [
           19115,
           8
          ],
          [
           19116,
           4
          ],
          [
           19118,
           51
          ],
          [
           19119,
           1
          ],
          [
           19120,
           26
          ],
          [
           19126,
           32
          ],
          [
           19127,
           1
          ],
          [
           19128,
           122
          ],
          [
           19129,
           2
          ],
          [
           19131,
           137
          ],
          [
           19138,
           2
          ],
          [
           19139,
           1
          ],
          [
           19150,
           288
          ],
          [
           19151,
           287
          ],
          [
           19355,
           2
          ],
          [
           19401,
           6977
          ],
          [
           19403,
           4854
          ],
          [
           19405,
           428
          ],
          [
           19406,
           3173
          ],
          [
           19422,
           1963
          ],
          [
           19423,
           4
          ],
          [
           19426,
           2461
          ],
          [
           19428,
           2296
          ],
          [
           19435,
           35
          ],
          [
           19438,
           1989
          ],
          [
           19440,
           1190
          ],
          [
           19444,
           1008
          ],
          [
           19446,
           4748
          ],
          [
           19453,
           101
          ],
          [
           19454,
           2781
          ],
          [
           19457,
           1
          ],
          [
           19460,
           427
          ],
          [
           19462,
           2078
          ],
          [
           19464,
           6642
          ],
          [
           19465,
           458
          ],
          [
           19468,
           2990
          ],
          [
           19472,
           6
          ],
          [
           19473,
           1012
          ],
          [
           19475,
           73
          ],
          [
           19477,
           10
          ],
          [
           19490,
           1
          ],
          [
           19492,
           40
          ],
          [
           19503,
           4
          ],
          [
           19504,
           101
          ],
          [
           19505,
           27
          ],
          [
           19512,
           220
          ],
          [
           19518,
           57
          ],
          [
           19525,
           965
          ],
          [
           36107,
           1
          ],
          [
           77316,
           1
          ]
         ],
         "featureidkey": "properties.ZCTA5CE10",
         "geo": "geo",
         "geojson": "https://raw.githubusercontent.com/OpenDataDE/State-zip-code-GeoJSON/master/pa_pennsylvania_zip_codes_geo.min.json",
         "hovertemplate": "<b>%{hovertext}</b><br><br>zip=%{customdata[0]}<br>Total_Calls=%{z}<extra></extra>",
         "hovertext": [
          "LEHIGH COUNTY",
          "EAST GREENVILLE",
          "MARLBOROUGH",
          "UPPER HANOVER",
          "UPPER HANOVER",
          "PENNSBURG",
          "UPPER FREDERICK",
          "RED HILL",
          "LEHIGH COUNTY",
          "LEHIGH COUNTY",
          "BUCKS COUNTY",
          "HATFIELD TOWNSHIP",
          "BUCKS COUNTY",
          "BUCKS COUNTY",
          "MONTGOMERY",
          "BUCKS COUNTY",
          "SALFORD",
          "FRANCONIA",
          "UPPER MORELAND",
          "TELFORD",
          "UPPER MORELAND",
          "HORSHAM",
          "ABINGTON",
          "LOWER GWYNEDD",
          "LOWER MERION",
          "LOWER MERION",
          "LOWER MORELAND",
          "BRYN ATHYN",
          "LOWER MERION",
          "CHELTENHAM",
          "UPPER DUBLIN",
          "CHELTENHAM",
          "SPRINGFIELD",
          "UPPER DUBLIN",
          "LOWER MERION",
          "ABINGTON",
          "UPPER MORELAND",
          "LOWER MERION",
          "HORSHAM",
          "ABINGTON",
          "BUCKS COUNTY",
          "LOWER MERION",
          "LOWER MERION",
          "SPRINGFIELD",
          "DELAWARE COUNTY",
          "DELAWARE COUNTY",
          "LOWER MERION",
          "UPPER MERION",
          "UPPER MORELAND",
          "CHELTENHAM",
          "LOWER MERION",
          "LOWER MERION",
          "ABINGTON",
          "LOWER MORELAND",
          "LOWER MORELAND",
          "SPRINGFIELD",
          "SPRINGFIELD",
          "CHELTENHAM",
          "CHELTENHAM",
          "LOWER MERION",
          "SPRINGFIELD",
          "PHILA COUNTY",
          "LOWER MERION",
          "PHILA COUNTY",
          "PHILA COUNTY",
          "CHELTENHAM",
          "LOWER MERION",
          "CHESTER COUNTY",
          "NORRISTOWN",
          "LOWER PROVIDENCE",
          "BRIDGEPORT",
          "UPPER MERION",
          "WHITPAIN",
          "WORCESTER",
          "UPPER PROVIDENCE",
          "CONSHOHOCKEN",
          "NEW HANOVER",
          "LOWER SALFORD",
          "HATFIELD TOWNSHIP",
          "WHITEMARSH",
          "LANSDALE",
          "UPPER PROVIDENCE",
          "MONTGOMERY",
          "CHESTER COUNTY",
          "UPPER PROVIDENCE",
          "PLYMOUTH",
          "POTTSTOWN",
          "CHESTER COUNTY",
          "LIMERICK",
          "NEW HANOVER",
          "SCHWENKSVILLE",
          "CHESTER COUNTY",
          "LOWER GWYNEDD",
          "WORCESTER",
          "LOWER FREDERICK",
          "BERKS COUNTY",
          "DOUGLASS",
          "DOUGLASS",
          "DOUGLASS",
          "BERKS COUNTY",
          "NEW HANOVER",
          "MONTGOMERY",
          "MONTGOMERY"
         ],
         "locations": [
          18036,
          18041,
          18054,
          18056,
          18070,
          18073,
          18074,
          18076,
          18092,
          18103,
          18914,
          18915,
          18927,
          18932,
          18936,
          18951,
          18960,
          18964,
          18966,
          18969,
          18974,
          18976,
          19001,
          19002,
          19003,
          19004,
          19006,
          19009,
          19010,
          19012,
          19025,
          19027,
          19031,
          19034,
          19035,
          19038,
          19040,
          19041,
          19044,
          19046,
          19053,
          19066,
          19072,
          19075,
          19082,
          19083,
          19085,
          19087,
          19090,
          19095,
          19096,
          19107,
          19111,
          19115,
          19116,
          19118,
          19119,
          19120,
          19126,
          19127,
          19128,
          19129,
          19131,
          19138,
          19139,
          19150,
          19151,
          19355,
          19401,
          19403,
          19405,
          19406,
          19422,
          19423,
          19426,
          19428,
          19435,
          19438,
          19440,
          19444,
          19446,
          19453,
          19454,
          19457,
          19460,
          19462,
          19464,
          19465,
          19468,
          19472,
          19473,
          19475,
          19477,
          19490,
          19492,
          19503,
          19504,
          19505,
          19512,
          19518,
          19525,
          36107,
          77316
         ],
         "name": "",
         "type": "choropleth",
         "z": [
          2,
          414,
          326,
          6,
          54,
          736,
          435,
          306,
          14,
          4,
          66,
          117,
          2,
          11,
          254,
          10,
          34,
          1286,
          44,
          672,
          215,
          44,
          1514,
          3050,
          1094,
          1280,
          2256,
          49,
          1316,
          593,
          493,
          1818,
          566,
          796,
          481,
          2578,
          2040,
          436,
          1594,
          2564,
          6,
          451,
          728,
          302,
          3,
          20,
          303,
          344,
          2635,
          1023,
          1115,
          1,
          36,
          8,
          4,
          51,
          1,
          26,
          32,
          1,
          122,
          2,
          137,
          2,
          1,
          288,
          287,
          2,
          6977,
          4854,
          428,
          3173,
          1963,
          4,
          2461,
          2296,
          35,
          1989,
          1190,
          1008,
          4748,
          101,
          2781,
          1,
          427,
          2078,
          6642,
          458,
          2990,
          6,
          1012,
          73,
          10,
          1,
          40,
          4,
          101,
          27,
          220,
          57,
          965,
          1,
          1
         ]
        }
       ],
       "layout": {
        "coloraxis": {
         "colorbar": {
          "title": {
           "text": "Total_Calls"
          }
         },
         "colorscale": [
          [
           0,
           "#440154"
          ],
          [
           0.1111111111111111,
           "#482878"
          ],
          [
           0.2222222222222222,
           "#3e4989"
          ],
          [
           0.3333333333333333,
           "#31688e"
          ],
          [
           0.4444444444444444,
           "#26828e"
          ],
          [
           0.5555555555555556,
           "#1f9e89"
          ],
          [
           0.6666666666666666,
           "#35b779"
          ],
          [
           0.7777777777777778,
           "#6ece58"
          ],
          [
           0.8888888888888888,
           "#b5de2b"
          ],
          [
           1,
           "#fde725"
          ]
         ]
        },
        "geo": {
         "center": {},
         "domain": {
          "x": [
           0,
           1
          ],
          "y": [
           0,
           1
          ]
         },
         "fitbounds": "locations",
         "visible": false
        },
        "height": 700,
        "legend": {
         "tracegroupgap": 0
        },
        "margin": {
         "b": 0,
         "l": 0,
         "r": 0,
         "t": 50
        },
        "template": {
         "data": {
          "bar": [
           {
            "error_x": {
             "color": "#2a3f5f"
            },
            "error_y": {
             "color": "#2a3f5f"
            },
            "marker": {
             "line": {
              "color": "#E5ECF6",
              "width": 0.5
             },
             "pattern": {
              "fillmode": "overlay",
              "size": 10,
              "solidity": 0.2
             }
            },
            "type": "bar"
           }
          ],
          "barpolar": [
           {
            "marker": {
             "line": {
              "color": "#E5ECF6",
              "width": 0.5
             },
             "pattern": {
              "fillmode": "overlay",
              "size": 10,
              "solidity": 0.2
             }
            },
            "type": "barpolar"
           }
          ],
          "carpet": [
           {
            "aaxis": {
             "endlinecolor": "#2a3f5f",
             "gridcolor": "white",
             "linecolor": "white",
             "minorgridcolor": "white",
             "startlinecolor": "#2a3f5f"
            },
            "baxis": {
             "endlinecolor": "#2a3f5f",
             "gridcolor": "white",
             "linecolor": "white",
             "minorgridcolor": "white",
             "startlinecolor": "#2a3f5f"
            },
            "type": "carpet"
           }
          ],
          "choropleth": [
           {
            "colorbar": {
             "outlinewidth": 0,
             "ticks": ""
            },
            "type": "choropleth"
           }
          ],
          "contour": [
           {
            "colorbar": {
             "outlinewidth": 0,
             "ticks": ""
            },
            "colorscale": [
             [
              0,
              "#0d0887"
             ],
             [
              0.1111111111111111,
              "#46039f"
             ],
             [
              0.2222222222222222,
              "#7201a8"
             ],
             [
              0.3333333333333333,
              "#9c179e"
             ],
             [
              0.4444444444444444,
              "#bd3786"
             ],
             [
              0.5555555555555556,
              "#d8576b"
             ],
             [
              0.6666666666666666,
              "#ed7953"
             ],
             [
              0.7777777777777778,
              "#fb9f3a"
             ],
             [
              0.8888888888888888,
              "#fdca26"
             ],
             [
              1,
              "#f0f921"
             ]
            ],
            "type": "contour"
           }
          ],
          "contourcarpet": [
           {
            "colorbar": {
             "outlinewidth": 0,
             "ticks": ""
            },
            "type": "contourcarpet"
           }
          ],
          "heatmap": [
           {
            "colorbar": {
             "outlinewidth": 0,
             "ticks": ""
            },
            "colorscale": [
             [
              0,
              "#0d0887"
             ],
             [
              0.1111111111111111,
              "#46039f"
             ],
             [
              0.2222222222222222,
              "#7201a8"
             ],
             [
              0.3333333333333333,
              "#9c179e"
             ],
             [
              0.4444444444444444,
              "#bd3786"
             ],
             [
              0.5555555555555556,
              "#d8576b"
             ],
             [
              0.6666666666666666,
              "#ed7953"
             ],
             [
              0.7777777777777778,
              "#fb9f3a"
             ],
             [
              0.8888888888888888,
              "#fdca26"
             ],
             [
              1,
              "#f0f921"
             ]
            ],
            "type": "heatmap"
           }
          ],
          "heatmapgl": [
           {
            "colorbar": {
             "outlinewidth": 0,
             "ticks": ""
            },
            "colorscale": [
             [
              0,
              "#0d0887"
             ],
             [
              0.1111111111111111,
              "#46039f"
             ],
             [
              0.2222222222222222,
              "#7201a8"
             ],
             [
              0.3333333333333333,
              "#9c179e"
             ],
             [
              0.4444444444444444,
              "#bd3786"
             ],
             [
              0.5555555555555556,
              "#d8576b"
             ],
             [
              0.6666666666666666,
              "#ed7953"
             ],
             [
              0.7777777777777778,
              "#fb9f3a"
             ],
             [
              0.8888888888888888,
              "#fdca26"
             ],
             [
              1,
              "#f0f921"
             ]
            ],
            "type": "heatmapgl"
           }
          ],
          "histogram": [
           {
            "marker": {
             "pattern": {
              "fillmode": "overlay",
              "size": 10,
              "solidity": 0.2
             }
            },
            "type": "histogram"
           }
          ],
          "histogram2d": [
           {
            "colorbar": {
             "outlinewidth": 0,
             "ticks": ""
            },
            "colorscale": [
             [
              0,
              "#0d0887"
             ],
             [
              0.1111111111111111,
              "#46039f"
             ],
             [
              0.2222222222222222,
              "#7201a8"
             ],
             [
              0.3333333333333333,
              "#9c179e"
             ],
             [
              0.4444444444444444,
              "#bd3786"
             ],
             [
              0.5555555555555556,
              "#d8576b"
             ],
             [
              0.6666666666666666,
              "#ed7953"
             ],
             [
              0.7777777777777778,
              "#fb9f3a"
             ],
             [
              0.8888888888888888,
              "#fdca26"
             ],
             [
              1,
              "#f0f921"
             ]
            ],
            "type": "histogram2d"
           }
          ],
          "histogram2dcontour": [
           {
            "colorbar": {
             "outlinewidth": 0,
             "ticks": ""
            },
            "colorscale": [
             [
              0,
              "#0d0887"
             ],
             [
              0.1111111111111111,
              "#46039f"
             ],
             [
              0.2222222222222222,
              "#7201a8"
             ],
             [
              0.3333333333333333,
              "#9c179e"
             ],
             [
              0.4444444444444444,
              "#bd3786"
             ],
             [
              0.5555555555555556,
              "#d8576b"
             ],
             [
              0.6666666666666666,
              "#ed7953"
             ],
             [
              0.7777777777777778,
              "#fb9f3a"
             ],
             [
              0.8888888888888888,
              "#fdca26"
             ],
             [
              1,
              "#f0f921"
             ]
            ],
            "type": "histogram2dcontour"
           }
          ],
          "mesh3d": [
           {
            "colorbar": {
             "outlinewidth": 0,
             "ticks": ""
            },
            "type": "mesh3d"
           }
          ],
          "parcoords": [
           {
            "line": {
             "colorbar": {
              "outlinewidth": 0,
              "ticks": ""
             }
            },
            "type": "parcoords"
           }
          ],
          "pie": [
           {
            "automargin": true,
            "type": "pie"
           }
          ],
          "scatter": [
           {
            "fillpattern": {
             "fillmode": "overlay",
             "size": 10,
             "solidity": 0.2
            },
            "type": "scatter"
           }
          ],
          "scatter3d": [
           {
            "line": {
             "colorbar": {
              "outlinewidth": 0,
              "ticks": ""
             }
            },
            "marker": {
             "colorbar": {
              "outlinewidth": 0,
              "ticks": ""
             }
            },
            "type": "scatter3d"
           }
          ],
          "scattercarpet": [
           {
            "marker": {
             "colorbar": {
              "outlinewidth": 0,
              "ticks": ""
             }
            },
            "type": "scattercarpet"
           }
          ],
          "scattergeo": [
           {
            "marker": {
             "colorbar": {
              "outlinewidth": 0,
              "ticks": ""
             }
            },
            "type": "scattergeo"
           }
          ],
          "scattergl": [
           {
            "marker": {
             "colorbar": {
              "outlinewidth": 0,
              "ticks": ""
             }
            },
            "type": "scattergl"
           }
          ],
          "scattermapbox": [
           {
            "marker": {
             "colorbar": {
              "outlinewidth": 0,
              "ticks": ""
             }
            },
            "type": "scattermapbox"
           }
          ],
          "scatterpolar": [
           {
            "marker": {
             "colorbar": {
              "outlinewidth": 0,
              "ticks": ""
             }
            },
            "type": "scatterpolar"
           }
          ],
          "scatterpolargl": [
           {
            "marker": {
             "colorbar": {
              "outlinewidth": 0,
              "ticks": ""
             }
            },
            "type": "scatterpolargl"
           }
          ],
          "scatterternary": [
           {
            "marker": {
             "colorbar": {
              "outlinewidth": 0,
              "ticks": ""
             }
            },
            "type": "scatterternary"
           }
          ],
          "surface": [
           {
            "colorbar": {
             "outlinewidth": 0,
             "ticks": ""
            },
            "colorscale": [
             [
              0,
              "#0d0887"
             ],
             [
              0.1111111111111111,
              "#46039f"
             ],
             [
              0.2222222222222222,
              "#7201a8"
             ],
             [
              0.3333333333333333,
              "#9c179e"
             ],
             [
              0.4444444444444444,
              "#bd3786"
             ],
             [
              0.5555555555555556,
              "#d8576b"
             ],
             [
              0.6666666666666666,
              "#ed7953"
             ],
             [
              0.7777777777777778,
              "#fb9f3a"
             ],
             [
              0.8888888888888888,
              "#fdca26"
             ],
             [
              1,
              "#f0f921"
             ]
            ],
            "type": "surface"
           }
          ],
          "table": [
           {
            "cells": {
             "fill": {
              "color": "#EBF0F8"
             },
             "line": {
              "color": "white"
             }
            },
            "header": {
             "fill": {
              "color": "#C8D4E3"
             },
             "line": {
              "color": "white"
             }
            },
            "type": "table"
           }
          ]
         },
         "layout": {
          "annotationdefaults": {
           "arrowcolor": "#2a3f5f",
           "arrowhead": 0,
           "arrowwidth": 1
          },
          "autotypenumbers": "strict",
          "coloraxis": {
           "colorbar": {
            "outlinewidth": 0,
            "ticks": ""
           }
          },
          "colorscale": {
           "diverging": [
            [
             0,
             "#8e0152"
            ],
            [
             0.1,
             "#c51b7d"
            ],
            [
             0.2,
             "#de77ae"
            ],
            [
             0.3,
             "#f1b6da"
            ],
            [
             0.4,
             "#fde0ef"
            ],
            [
             0.5,
             "#f7f7f7"
            ],
            [
             0.6,
             "#e6f5d0"
            ],
            [
             0.7,
             "#b8e186"
            ],
            [
             0.8,
             "#7fbc41"
            ],
            [
             0.9,
             "#4d9221"
            ],
            [
             1,
             "#276419"
            ]
           ],
           "sequential": [
            [
             0,
             "#0d0887"
            ],
            [
             0.1111111111111111,
             "#46039f"
            ],
            [
             0.2222222222222222,
             "#7201a8"
            ],
            [
             0.3333333333333333,
             "#9c179e"
            ],
            [
             0.4444444444444444,
             "#bd3786"
            ],
            [
             0.5555555555555556,
             "#d8576b"
            ],
            [
             0.6666666666666666,
             "#ed7953"
            ],
            [
             0.7777777777777778,
             "#fb9f3a"
            ],
            [
             0.8888888888888888,
             "#fdca26"
            ],
            [
             1,
             "#f0f921"
            ]
           ],
           "sequentialminus": [
            [
             0,
             "#0d0887"
            ],
            [
             0.1111111111111111,
             "#46039f"
            ],
            [
             0.2222222222222222,
             "#7201a8"
            ],
            [
             0.3333333333333333,
             "#9c179e"
            ],
            [
             0.4444444444444444,
             "#bd3786"
            ],
            [
             0.5555555555555556,
             "#d8576b"
            ],
            [
             0.6666666666666666,
             "#ed7953"
            ],
            [
             0.7777777777777778,
             "#fb9f3a"
            ],
            [
             0.8888888888888888,
             "#fdca26"
            ],
            [
             1,
             "#f0f921"
            ]
           ]
          },
          "colorway": [
           "#636efa",
           "#EF553B",
           "#00cc96",
           "#ab63fa",
           "#FFA15A",
           "#19d3f3",
           "#FF6692",
           "#B6E880",
           "#FF97FF",
           "#FECB52"
          ],
          "font": {
           "color": "#2a3f5f"
          },
          "geo": {
           "bgcolor": "white",
           "lakecolor": "white",
           "landcolor": "#E5ECF6",
           "showlakes": true,
           "showland": true,
           "subunitcolor": "white"
          },
          "hoverlabel": {
           "align": "left"
          },
          "hovermode": "closest",
          "mapbox": {
           "style": "light"
          },
          "paper_bgcolor": "white",
          "plot_bgcolor": "#E5ECF6",
          "polar": {
           "angularaxis": {
            "gridcolor": "white",
            "linecolor": "white",
            "ticks": ""
           },
           "bgcolor": "#E5ECF6",
           "radialaxis": {
            "gridcolor": "white",
            "linecolor": "white",
            "ticks": ""
           }
          },
          "scene": {
           "xaxis": {
            "backgroundcolor": "#E5ECF6",
            "gridcolor": "white",
            "gridwidth": 2,
            "linecolor": "white",
            "showbackground": true,
            "ticks": "",
            "zerolinecolor": "white"
           },
           "yaxis": {
            "backgroundcolor": "#E5ECF6",
            "gridcolor": "white",
            "gridwidth": 2,
            "linecolor": "white",
            "showbackground": true,
            "ticks": "",
            "zerolinecolor": "white"
           },
           "zaxis": {
            "backgroundcolor": "#E5ECF6",
            "gridcolor": "white",
            "gridwidth": 2,
            "linecolor": "white",
            "showbackground": true,
            "ticks": "",
            "zerolinecolor": "white"
           }
          },
          "shapedefaults": {
           "line": {
            "color": "#2a3f5f"
           }
          },
          "ternary": {
           "aaxis": {
            "gridcolor": "white",
            "linecolor": "white",
            "ticks": ""
           },
           "baxis": {
            "gridcolor": "white",
            "linecolor": "white",
            "ticks": ""
           },
           "bgcolor": "#E5ECF6",
           "caxis": {
            "gridcolor": "white",
            "linecolor": "white",
            "ticks": ""
           }
          },
          "title": {
           "x": 0.05
          },
          "xaxis": {
           "automargin": true,
           "gridcolor": "white",
           "linecolor": "white",
           "ticks": "",
           "title": {
            "standoff": 15
           },
           "zerolinecolor": "white",
           "zerolinewidth": 2
          },
          "yaxis": {
           "automargin": true,
           "gridcolor": "white",
           "linecolor": "white",
           "ticks": "",
           "title": {
            "standoff": 15
           },
           "zerolinecolor": "white",
           "zerolinewidth": 2
          }
         }
        },
        "title": {
         "text": "911 Calls by ZIP Code"
        },
        "width": 1000
       }
      },
      "image/png": "[encoded data removed]",
      "text/html": [
       "<div>                            <div id=\"b72d6af9-a372-4d27-9e41-8a07fc84b6b2\" class=\"plotly-graph-div\" style=\"height:700px; width:1000px;\"></div>            <script type=\"text/javascript\">                require([\"plotly\"], function(Plotly) {                    window.PLOTLYENV=window.PLOTLYENV || {};                                    if (document.getElementById(\"b72d6af9-a372-4d27-9e41-8a07fc84b6b2\")) {                    Plotly.newPlot(                        \"b72d6af9-a372-4d27-9e41-8a07fc84b6b2\",                        [{\"coloraxis\":\"coloraxis\",\"customdata\":[[18036.0,2.0],[18041.0,414.0],[18054.0,326.0],[18056.0,6.0],[18070.0,54.0],[18073.0,736.0],[18074.0,435.0],[18076.0,306.0],[18092.0,14.0],[18103.0,4.0],[18914.0,66.0],[18915.0,117.0],[18927.0,2.0],[18932.0,11.0],[18936.0,254.0],[18951.0,10.0],[18960.0,34.0],[18964.0,1286.0],[18966.0,44.0],[18969.0,672.0],[18974.0,215.0],[18976.0,44.0],[19001.0,1514.0],[19002.0,3050.0],[19003.0,1094.0],[19004.0,1280.0],[19006.0,2256.0],[19009.0,49.0],[19010.0,1316.0],[19012.0,593.0],[19025.0,493.0],[19027.0,1818.0],[19031.0,566.0],[19034.0,796.0],[19035.0,481.0],[19038.0,2578.0],[19040.0,2040.0],[19041.0,436.0],[19044.0,1594.0],[19046.0,2564.0],[19053.0,6.0],[19066.0,451.0],[19072.0,728.0],[19075.0,302.0],[19082.0,3.0],[19083.0,20.0],[19085.0,303.0],[19087.0,344.0],[19090.0,2635.0],[19095.0,1023.0],[19096.0,1115.0],[19107.0,1.0],[19111.0,36.0],[19115.0,8.0],[19116.0,4.0],[19118.0,51.0],[19119.0,1.0],[19120.0,26.0],[19126.0,32.0],[19127.0,1.0],[19128.0,122.0],[19129.0,2.0],[19131.0,137.0],[19138.0,2.0],[19139.0,1.0],[19150.0,288.0],[19151.0,287.0],[19355.0,2.0],[19401.0,6977.0],[19403.0,4854.0],[19405.0,428.0],[19406.0,3173.0],[19422.0,1963.0],[19423.0,4.0],[19426.0,2461.0],[19428.0,2296.0],[19435.0,35.0],[19438.0,1989.0],[19440.0,1190.0],[19444.0,1008.0],[19446.0,4748.0],[19453.0,101.0],[19454.0,2781.0],[19457.0,1.0],[19460.0,427.0],[19462.0,2078.0],[19464.0,6642.0],[19465.0,458.0],[19468.0,2990.0],[19472.0,6.0],[19473.0,1012.0],[19475.0,73.0],[19477.0,10.0],[19490.0,1.0],[19492.0,40.0],[19503.0,4.0],[19504.0,101.0],[19505.0,27.0],[19512.0,220.0],[19518.0,57.0],[19525.0,965.0],[36107.0,1.0],[77316.0,1.0]],\"featureidkey\":\"properties.ZCTA5CE10\",\"geo\":\"geo\",\"geojson\":\"https:\\u002f\\u002fraw.githubusercontent.com\\u002fOpenDataDE\\u002fState-zip-code-GeoJSON\\u002fmaster\\u002fpa_pennsylvania_zip_codes_geo.min.json\",\"hovertemplate\":\"\\u003cb\\u003e%{hovertext}\\u003c\\u002fb\\u003e\\u003cbr\\u003e\\u003cbr\\u003ezip=%{customdata[0]}\\u003cbr\\u003eTotal_Calls=%{z}\\u003cextra\\u003e\\u003c\\u002fextra\\u003e\",\"hovertext\":[\"LEHIGH COUNTY\",\"EAST GREENVILLE\",\"MARLBOROUGH\",\"UPPER HANOVER\",\"UPPER HANOVER\",\"PENNSBURG\",\"UPPER FREDERICK\",\"RED HILL\",\"LEHIGH COUNTY\",\"LEHIGH COUNTY\",\"BUCKS COUNTY\",\"HATFIELD TOWNSHIP\",\"BUCKS COUNTY\",\"BUCKS COUNTY\",\"MONTGOMERY\",\"BUCKS COUNTY\",\"SALFORD\",\"FRANCONIA\",\"UPPER MORELAND\",\"TELFORD\",\"UPPER MORELAND\",\"HORSHAM\",\"ABINGTON\",\"LOWER GWYNEDD\",\"LOWER MERION\",\"LOWER MERION\",\"LOWER MORELAND\",\"BRYN ATHYN\",\"LOWER MERION\",\"CHELTENHAM\",\"UPPER DUBLIN\",\"CHELTENHAM\",\"SPRINGFIELD\",\"UPPER DUBLIN\",\"LOWER MERION\",\"ABINGTON\",\"UPPER MORELAND\",\"LOWER MERION\",\"HORSHAM\",\"ABINGTON\",\"BUCKS COUNTY\",\"LOWER MERION\",\"LOWER MERION\",\"SPRINGFIELD\",\"DELAWARE COUNTY\",\"DELAWARE COUNTY\",\"LOWER MERION\",\"UPPER MERION\",\"UPPER MORELAND\",\"CHELTENHAM\",\"LOWER MERION\",\"LOWER MERION\",\"ABINGTON\",\"LOWER MORELAND\",\"LOWER MORELAND\",\"SPRINGFIELD\",\"SPRINGFIELD\",\"CHELTENHAM\",\"CHELTENHAM\",\"LOWER MERION\",\"SPRINGFIELD\",\"PHILA COUNTY\",\"LOWER MERION\",\"PHILA COUNTY\",\"PHILA COUNTY\",\"CHELTENHAM\",\"LOWER MERION\",\"CHESTER COUNTY\",\"NORRISTOWN\",\"LOWER PROVIDENCE\",\"BRIDGEPORT\",\"UPPER MERION\",\"WHITPAIN\",\"WORCESTER\",\"UPPER PROVIDENCE\",\"CONSHOHOCKEN\",\"NEW HANOVER\",\"LOWER SALFORD\",\"HATFIELD TOWNSHIP\",\"WHITEMARSH\",\"LANSDALE\",\"UPPER PROVIDENCE\",\"MONTGOMERY\",\"CHESTER COUNTY\",\"UPPER PROVIDENCE\",\"PLYMOUTH\",\"POTTSTOWN\",\"CHESTER COUNTY\",\"LIMERICK\",\"NEW HANOVER\",\"SCHWENKSVILLE\",\"CHESTER COUNTY\",\"LOWER GWYNEDD\",\"WORCESTER\",\"LOWER FREDERICK\",\"BERKS COUNTY\",\"DOUGLASS\",\"DOUGLASS\",\"DOUGLASS\",\"BERKS COUNTY\",\"NEW HANOVER\",\"MONTGOMERY\",\"MONTGOMERY\"],\"locations\":[18036.0,18041.0,18054.0,18056.0,18070.0,18073.0,18074.0,18076.0,18092.0,18103.0,18914.0,18915.0,18927.0,18932.0,18936.0,18951.0,18960.0,18964.0,18966.0,18969.0,18974.0,18976.0,19001.0,19002.0,19003.0,19004.0,19006.0,19009.0,19010.0,19012.0,19025.0,19027.0,19031.0,19034.0,19035.0,19038.0,19040.0,19041.0,19044.0,19046.0,19053.0,19066.0,19072.0,19075.0,19082.0,19083.0,19085.0,19087.0,19090.0,19095.0,19096.0,19107.0,19111.0,19115.0,19116.0,19118.0,19119.0,19120.0,19126.0,19127.0,19128.0,19129.0,19131.0,19138.0,19139.0,19150.0,19151.0,19355.0,19401.0,19403.0,19405.0,19406.0,19422.0,19423.0,19426.0,19428.0,19435.0,19438.0,19440.0,19444.0,19446.0,19453.0,19454.0,19457.0,19460.0,19462.0,19464.0,19465.0,19468.0,19472.0,19473.0,19475.0,19477.0,19490.0,19492.0,19503.0,19504.0,19505.0,19512.0,19518.0,19525.0,36107.0,77316.0],\"name\":\"\",\"z\":[2,414,326,6,54,736,435,306,14,4,66,117,2,11,254,10,34,1286,44,672,215,44,1514,3050,1094,1280,2256,49,1316,593,493,1818,566,796,481,2578,2040,436,1594,2564,6,451,728,302,3,20,303,344,2635,1023,1115,1,36,8,4,51,1,26,32,1,122,2,137,2,1,288,287,2,6977,4854,428,3173,1963,4,2461,2296,35,1989,1190,1008,4748,101,2781,1,427,2078,6642,458,2990,6,1012,73,10,1,40,4,101,27,220,57,965,1,1],\"type\":\"choropleth\"}],                        {\"template\":{\"data\":{\"histogram2dcontour\":[{\"type\":\"histogram2dcontour\",\"colorbar\":{\"outlinewidth\":0,\"ticks\":\"\"},\"colorscale\":[[0.0,\"#0d0887\"],[0.1111111111111111,\"#46039f\"],[0.2222222222222222,\"#7201a8\"],[0.3333333333333333,\"#9c179e\"],[0.4444444444444444,\"#bd3786\"],[0.5555555555555556,\"#d8576b\"],[0.6666666666666666,\"#ed7953\"],[0.7777777777777778,\"#fb9f3a\"],[0.8888888888888888,\"#fdca26\"],[1.0,\"#f0f921\"]]}],\"choropleth\":[{\"type\":\"choropleth\",\"colorbar\":{\"outlinewidth\":0,\"ticks\":\"\"}}],\"histogram2d\":[{\"type\":\"histogram2d\",\"colorbar\":{\"outlinewidth\":0,\"ticks\":\"\"},\"colorscale\":[[0.0,\"#0d0887\"],[0.1111111111111111,\"#46039f\"],[0.2222222222222222,\"#7201a8\"],[0.3333333333333333,\"#9c179e\"],[0.4444444444444444,\"#bd3786\"],[0.5555555555555556,\"#d8576b\"],[0.6666666666666666,\"#ed7953\"],[0.7777777777777778,\"#fb9f3a\"],[0.8888888888888888,\"#fdca26\"],[1.0,\"#f0f921\"]]}],\"heatmap\":[{\"type\":\"heatmap\",\"colorbar\":{\"outlinewidth\":0,\"ticks\":\"\"},\"colorscale\":[[0.0,\"#0d0887\"],[0.1111111111111111,\"#46039f\"],[0.2222222222222222,\"#7201a8\"],[0.3333333333333333,\"#9c179e\"],[0.4444444444444444,\"#bd3786\"],[0.5555555555555556,\"#d8576b\"],[0.6666666666666666,\"#ed7953\"],[0.7777777777777778,\"#fb9f3a\"],[0.8888888888888888,\"#fdca26\"],[1.0,\"#f0f921\"]]}],\"heatmapgl\":[{\"type\":\"heatmapgl\",\"colorbar\":{\"outlinewidth\":0,\"ticks\":\"\"},\"colorscale\":[[0.0,\"#0d0887\"],[0.1111111111111111,\"#46039f\"],[0.2222222222222222,\"#7201a8\"],[0.3333333333333333,\"#9c179e\"],[0.4444444444444444,\"#bd3786\"],[0.5555555555555556,\"#d8576b\"],[0.6666666666666666,\"#ed7953\"],[0.7777777777777778,\"#fb9f3a\"],[0.8888888888888888,\"#fdca26\"],[1.0,\"#f0f921\"]]}],\"contourcarpet\":[{\"type\":\"contourcarpet\",\"colorbar\":{\"outlinewidth\":0,\"ticks\":\"\"}}],\"contour\":[{\"type\":\"contour\",\"colorbar\":{\"outlinewidth\":0,\"ticks\":\"\"},\"colorscale\":[[0.0,\"#0d0887\"],[0.1111111111111111,\"#46039f\"],[0.2222222222222222,\"#7201a8\"],[0.3333333333333333,\"#9c179e\"],[0.4444444444444444,\"#bd3786\"],[0.5555555555555556,\"#d8576b\"],[0.6666666666666666,\"#ed7953\"],[0.7777777777777778,\"#fb9f3a\"],[0.8888888888888888,\"#fdca26\"],[1.0,\"#f0f921\"]]}],\"surface\":[{\"type\":\"surface\",\"colorbar\":{\"outlinewidth\":0,\"ticks\":\"\"},\"colorscale\":[[0.0,\"#0d0887\"],[0.1111111111111111,\"#46039f\"],[0.2222222222222222,\"#7201a8\"],[0.3333333333333333,\"#9c179e\"],[0.4444444444444444,\"#bd3786\"],[0.5555555555555556,\"#d8576b\"],[0.6666666666666666,\"#ed7953\"],[0.7777777777777778,\"#fb9f3a\"],[0.8888888888888888,\"#fdca26\"],[1.0,\"#f0f921\"]]}],\"mesh3d\":[{\"type\":\"mesh3d\",\"colorbar\":{\"outlinewidth\":0,\"ticks\":\"\"}}],\"scatter\":[{\"fillpattern\":{\"fillmode\":\"overlay\",\"size\":10,\"solidity\":0.2},\"type\":\"scatter\"}],\"parcoords\":[{\"type\":\"parcoords\",\"line\":{\"colorbar\":{\"outlinewidth\":0,\"ticks\":\"\"}}}],\"scatterpolargl\":[{\"type\":\"scatterpolargl\",\"marker\":{\"colorbar\":{\"outlinewidth\":0,\"ticks\":\"\"}}}],\"bar\":[{\"error_x\":{\"color\":\"#2a3f5f\"},\"error_y\":{\"color\":\"#2a3f5f\"},\"marker\":{\"line\":{\"color\":\"#E5ECF6\",\"width\":0.5},\"pattern\":{\"fillmode\":\"overlay\",\"size\":10,\"solidity\":0.2}},\"type\":\"bar\"}],\"scattergeo\":[{\"type\":\"scattergeo\",\"marker\":{\"colorbar\":{\"outlinewidth\":0,\"ticks\":\"\"}}}],\"scatterpolar\":[{\"type\":\"scatterpolar\",\"marker\":{\"colorbar\":{\"outlinewidth\":0,\"ticks\":\"\"}}}],\"histogram\":[{\"marker\":{\"pattern\":{\"fillmode\":\"overlay\",\"size\":10,\"solidity\":0.2}},\"type\":\"histogram\"}],\"scattergl\":[{\"type\":\"scattergl\",\"marker\":{\"colorbar\":{\"outlinewidth\":0,\"ticks\":\"\"}}}],\"scatter3d\":[{\"type\":\"scatter3d\",\"line\":{\"colorbar\":{\"outlinewidth\":0,\"ticks\":\"\"}},\"marker\":{\"colorbar\":{\"outlinewidth\":0,\"ticks\":\"\"}}}],\"scattermapbox\":[{\"type\":\"scattermapbox\",\"marker\":{\"colorbar\":{\"outlinewidth\":0,\"ticks\":\"\"}}}],\"scatterternary\":[{\"type\":\"scatterternary\",\"marker\":{\"colorbar\":{\"outlinewidth\":0,\"ticks\":\"\"}}}],\"scattercarpet\":[{\"type\":\"scattercarpet\",\"marker\":{\"colorbar\":{\"outlinewidth\":0,\"ticks\":\"\"}}}],\"carpet\":[{\"aaxis\":{\"endlinecolor\":\"#2a3f5f\",\"gridcolor\":\"white\",\"linecolor\":\"white\",\"minorgridcolor\":\"white\",\"startlinecolor\":\"#2a3f5f\"},\"baxis\":{\"endlinecolor\":\"#2a3f5f\",\"gridcolor\":\"white\",\"linecolor\":\"white\",\"minorgridcolor\":\"white\",\"startlinecolor\":\"#2a3f5f\"},\"type\":\"carpet\"}],\"table\":[{\"cells\":{\"fill\":{\"color\":\"#EBF0F8\"},\"line\":{\"color\":\"white\"}},\"header\":{\"fill\":{\"color\":\"#C8D4E3\"},\"line\":{\"color\":\"white\"}},\"type\":\"table\"}],\"barpolar\":[{\"marker\":{\"line\":{\"color\":\"#E5ECF6\",\"width\":0.5},\"pattern\":{\"fillmode\":\"overlay\",\"size\":10,\"solidity\":0.2}},\"type\":\"barpolar\"}],\"pie\":[{\"automargin\":true,\"type\":\"pie\"}]},\"layout\":{\"autotypenumbers\":\"strict\",\"colorway\":[\"#636efa\",\"#EF553B\",\"#00cc96\",\"#ab63fa\",\"#FFA15A\",\"#19d3f3\",\"#FF6692\",\"#B6E880\",\"#FF97FF\",\"#FECB52\"],\"font\":{\"color\":\"#2a3f5f\"},\"hovermode\":\"closest\",\"hoverlabel\":{\"align\":\"left\"},\"paper_bgcolor\":\"white\",\"plot_bgcolor\":\"#E5ECF6\",\"polar\":{\"bgcolor\":\"#E5ECF6\",\"angularaxis\":{\"gridcolor\":\"white\",\"linecolor\":\"white\",\"ticks\":\"\"},\"radialaxis\":{\"gridcolor\":\"white\",\"linecolor\":\"white\",\"ticks\":\"\"}},\"ternary\":{\"bgcolor\":\"#E5ECF6\",\"aaxis\":{\"gridcolor\":\"white\",\"linecolor\":\"white\",\"ticks\":\"\"},\"baxis\":{\"gridcolor\":\"white\",\"linecolor\":\"white\",\"ticks\":\"\"},\"caxis\":{\"gridcolor\":\"white\",\"linecolor\":\"white\",\"ticks\":\"\"}},\"coloraxis\":{\"colorbar\":{\"outlinewidth\":0,\"ticks\":\"\"}},\"colorscale\":{\"sequential\":[[0.0,\"#0d0887\"],[0.1111111111111111,\"#46039f\"],[0.2222222222222222,\"#7201a8\"],[0.3333333333333333,\"#9c179e\"],[0.4444444444444444,\"#bd3786\"],[0.5555555555555556,\"#d8576b\"],[0.6666666666666666,\"#ed7953\"],[0.7777777777777778,\"#fb9f3a\"],[0.8888888888888888,\"#fdca26\"],[1.0,\"#f0f921\"]],\"sequentialminus\":[[0.0,\"#0d0887\"],[0.1111111111111111,\"#46039f\"],[0.2222222222222222,\"#7201a8\"],[0.3333333333333333,\"#9c179e\"],[0.4444444444444444,\"#bd3786\"],[0.5555555555555556,\"#d8576b\"],[0.6666666666666666,\"#ed7953\"],[0.7777777777777778,\"#fb9f3a\"],[0.8888888888888888,\"#fdca26\"],[1.0,\"#f0f921\"]],\"diverging\":[[0,\"#8e0152\"],[0.1,\"#c51b7d\"],[0.2,\"#de77ae\"],[0.3,\"#f1b6da\"],[0.4,\"#fde0ef\"],[0.5,\"#f7f7f7\"],[0.6,\"#e6f5d0\"],[0.7,\"#b8e186\"],[0.8,\"#7fbc41\"],[0.9,\"#4d9221\"],[1,\"#276419\"]]},\"xaxis\":{\"gridcolor\":\"white\",\"linecolor\":\"white\",\"ticks\":\"\",\"title\":{\"standoff\":15},\"zerolinecolor\":\"white\",\"automargin\":true,\"zerolinewidth\":2},\"yaxis\":{\"gridcolor\":\"white\",\"linecolor\":\"white\",\"ticks\":\"\",\"title\":{\"standoff\":15},\"zerolinecolor\":\"white\",\"automargin\":true,\"zerolinewidth\":2},\"scene\":{\"xaxis\":{\"backgroundcolor\":\"#E5ECF6\",\"gridcolor\":\"white\",\"linecolor\":\"white\",\"showbackground\":true,\"ticks\":\"\",\"zerolinecolor\":\"white\",\"gridwidth\":2},\"yaxis\":{\"backgroundcolor\":\"#E5ECF6\",\"gridcolor\":\"white\",\"linecolor\":\"white\",\"showbackground\":true,\"ticks\":\"\",\"zerolinecolor\":\"white\",\"gridwidth\":2},\"zaxis\":{\"backgroundcolor\":\"#E5ECF6\",\"gridcolor\":\"white\",\"linecolor\":\"white\",\"showbackground\":true,\"ticks\":\"\",\"zerolinecolor\":\"white\",\"gridwidth\":2}},\"shapedefaults\":{\"line\":{\"color\":\"#2a3f5f\"}},\"annotationdefaults\":{\"arrowcolor\":\"#2a3f5f\",\"arrowhead\":0,\"arrowwidth\":1},\"geo\":{\"bgcolor\":\"white\",\"landcolor\":\"#E5ECF6\",\"subunitcolor\":\"white\",\"showland\":true,\"showlakes\":true,\"lakecolor\":\"white\"},\"title\":{\"x\":0.05},\"mapbox\":{\"style\":\"light\"}}},\"geo\":{\"domain\":{\"x\":[0.0,1.0],\"y\":[0.0,1.0]},\"center\":{},\"fitbounds\":\"locations\",\"visible\":false},\"coloraxis\":{\"colorbar\":{\"title\":{\"text\":\"Total_Calls\"}},\"colorscale\":[[0.0,\"#440154\"],[0.1111111111111111,\"#482878\"],[0.2222222222222222,\"#3e4989\"],[0.3333333333333333,\"#31688e\"],[0.4444444444444444,\"#26828e\"],[0.5555555555555556,\"#1f9e89\"],[0.6666666666666666,\"#35b779\"],[0.7777777777777778,\"#6ece58\"],[0.8888888888888888,\"#b5de2b\"],[1.0,\"#fde725\"]]},\"legend\":{\"tracegroupgap\":0},\"title\":{\"text\":\"911 Calls by ZIP Code\"},\"margin\":{\"l\":0,\"r\":0,\"t\":50,\"b\":0},\"width\":1000,\"height\":700},                        {\"responsive\": true}                    ).then(function(){\n",
       "                            \n",
       "var gd = document.getElementById('b72d6af9-a372-4d27-9e41-8a07fc84b6b2');\n",
       "var x = new MutationObserver(function (mutations, observer) {{\n",
       "        var display = window.getComputedStyle(gd).display;\n",
       "        if (!display || display === 'none') {{\n",
       "            console.log([gd, 'removed!']);\n",
       "            Plotly.purge(gd);\n",
       "            observer.disconnect();\n",
       "        }}\n",
       "}});\n",
       "\n",
       "// Listen for the removal of the full notebook cells\n",
       "var notebookContainer = gd.closest('#notebook-container');\n",
       "if (notebookContainer) {{\n",
       "    x.observe(notebookContainer, {childList: true});\n",
       "}}\n",
       "\n",
       "// Listen for the clearing of the current output cell\n",
       "var outputEl = gd.closest('.output');\n",
       "if (outputEl) {{\n",
       "    x.observe(outputEl, {childList: true});\n",
       "}}\n",
       "\n",
       "                        })                };                });            </script>        </div>"
      ]
     },
     "metadata": {},
     "output_type": "display_data"
    }
   ],
   "source": [
    "fig = px.choropleth(\n",
    "    zip_summary,\n",
    "    geojson=\"https://raw.githubusercontent.com/OpenDataDE/State-zip-code-GeoJSON/master/pa_pennsylvania_zip_codes_geo.min.json\",\n",
    "    locations=\"zip\",\n",
    "    featureidkey=\"properties.ZCTA5CE10\",\n",
    "    color=\"Total_Calls\",\n",
    "    color_continuous_scale=\"Viridis\",\n",
    "    hover_name=\"twp\",\n",
    "    hover_data={\"zip\": True, \"Total_Calls\": True},\n",
    "    title=\"911 Calls by ZIP Code\"\n",
    ")\n",
    "\n",
    "fig.update_geos(fitbounds=\"locations\", visible=False)\n",
    "fig.update_layout(\n",
    "    width=1000, \n",
    "    height=700, \n",
    "    margin=dict(l=0, r=0, t=50, b=0)  # remove empty borders\n",
    ")\n",
    "fig.show()\n"
   ]
  },
  {
   "cell_type": "code",
   "execution_count": null,
   "id": "d67a13af-9d65-4600-b11c-d651d29bfb20",
   "metadata": {},
   "outputs": [],
   "source": []
  }
 ],
 "metadata": {
  "kernelspec": {
   "display_name": "Python [conda env:base] *",
   "language": "python",
   "name": "conda-base-py"
  },
  "language_info": {
   "codemirror_mode": {
    "name": "ipython",
    "version": 3
   },
   "file_extension": ".py",
   "mimetype": "text/x-python",
   "name": "python",
   "nbconvert_exporter": "python",
   "pygments_lexer": "ipython3",
   "version": "3.13.5"
  }
 },
 "nbformat": 4,
 "nbformat_minor": 5
}
